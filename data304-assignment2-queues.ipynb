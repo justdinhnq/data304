{
 "cells": [
  {
   "cell_type": "markdown",
   "id": "bdf40525",
   "metadata": {
    "papermill": {
     "duration": 0.004071,
     "end_time": "2023-04-03T03:33:56.317796",
     "exception": false,
     "start_time": "2023-04-03T03:33:56.313725",
     "status": "completed"
    },
    "tags": []
   },
   "source": [
    "Name: Nguyen Quoc Dinh\n",
    "\n",
    "Student ID: 300550781\n",
    "\n",
    "\n",
    "## Assignment 2- Queues\n",
    "\n",
    "#### Problem 1\n",
    "- Single server with infinite capacity\n",
    "- mean service rate follows a Markovian process: $\\mu$ > 0\n",
    "- customer mean arrival rate: $\\lambda$ > 0\n",
    "- If one person in the system, customer mean arrival rate $\\frac{\\lambda}{2}$\n",
    "- If n people in the system, customer mean arrival rate $\\frac{\\lambda}{2^n}$"
   ]
  },
  {
   "cell_type": "markdown",
   "id": "e25c9cf5",
   "metadata": {
    "papermill": {
     "duration": 0.002795,
     "end_time": "2023-04-03T03:33:56.323971",
     "exception": false,
     "start_time": "2023-04-03T03:33:56.321176",
     "status": "completed"
    },
    "tags": []
   },
   "source": [
    "**a. Describe the system graphically**"
   ]
  },
  {
   "cell_type": "markdown",
   "id": "66980a31",
   "metadata": {
    "papermill": {
     "duration": 0.002409,
     "end_time": "2023-04-03T03:33:56.329110",
     "exception": false,
     "start_time": "2023-04-03T03:33:56.326701",
     "status": "completed"
    },
    "tags": []
   },
   "source": [
    "              λ       λ/2       λ/4        λ/8       ...       λ/2^𝑛\n",
    "          |-------->|-------->|--------->|--------->      |--------->|  \n",
    "          1         2         3          4               n-1         n\n",
    "          | µ       |   µ     |    µ     |    µ    ...    |    µ     |\n",
    "          |<--------|<--------|<---------|<--------       |<----------\n"
   ]
  },
  {
   "cell_type": "markdown",
   "id": "a69ea417",
   "metadata": {
    "papermill": {
     "duration": 0.002385,
     "end_time": "2023-04-03T03:33:56.334131",
     "exception": false,
     "start_time": "2023-04-03T03:33:56.331746",
     "status": "completed"
    },
    "tags": []
   },
   "source": [
    "M/M/1\n",
    "- the system has a Poisson arrival process with an exponential service time distribution and one server\n",
    "\n",
    "- λ: customer mean arrival rate\n",
    "- µ: serving rate"
   ]
  },
  {
   "cell_type": "markdown",
   "id": "0dfd6c10",
   "metadata": {
    "papermill": {
     "duration": 0.002349,
     "end_time": "2023-04-03T03:33:56.339113",
     "exception": false,
     "start_time": "2023-04-03T03:33:56.336764",
     "status": "completed"
    },
    "tags": []
   },
   "source": [
    "**b.  Compute the steady-state distribution π = ($π_0, π_1, π_2$, . . .)**\n",
    "\n",
    "To find the steady-state distribution of the system, we need to solve the balance equations:\n",
    "\n",
    "$\\lambda\\pi_0 = \\mu\\pi_1$\n",
    "\n",
    "$(\\lambda/2)\\pi_1 = \\mu\\pi_2 + (\\lambda/2)\\pi_0$\n",
    "\n",
    "$(\\lambda/4)\\pi_2 = \\mu\\pi_3 + (\\lambda/2)\\pi_1$\n",
    "\n",
    "...\n",
    "\n",
    "$(\\lambda/2^n)\\pi_{n-1} = \\mu\\pi_n + (\\lambda/2^{n-1})\\pi_{n-1}$\n",
    "\n",
    "Using the first equation to solve for $\\pi_1$: $\\pi_1 = (\\lambda/\\mu)\\pi_0$\n",
    "\n",
    "Substituting it into the second equation, we have: $(\\lambda/2)(\\lambda/\\mu)\\pi_0 = \\mu\\pi_2 + (\\lambda/2)\\pi_0$\n",
    "\n",
    "Solving for $\\pi_2 = ((\\lambda/2)^2 / \\mu)\\pi_0$\n",
    "\n",
    "We can use mathematical induction to show that the steady-state distribution: $\\pi_n = ((\\lambda/2)^n / \\mu^n)\\pi_0$\n",
    "\n",
    "To find the value of $\\pi_0$, we can use the fact that the sum of all probabilities in the system must equal 1:\n",
    "\n",
    "$\\sum_n \\pi_n = 1$\n",
    "\n",
    "Substituting the expression for $\\pi_n$, we get:\n",
    "\n",
    "$\\sum_n ((\\lambda/2)^n / \\mu^n)\\pi_0 = 1 <=> \\pi_0 \\sum_n ((\\lambda/2)^n / \\mu^n) = 1 <=> \\pi_0 = 1 / \\sum_n ((\\lambda/2)^n / \\mu^n)$\n",
    "\n",
    "Therefore, the steady-state distribution is:\n",
    "\n",
    "$\\pi_n = ((\\lambda/2)^n / \\mu^n) \\frac{1}{\\sum_n ((\\lambda/2)^n / \\mu^n)}$"
   ]
  },
  {
   "cell_type": "markdown",
   "id": "e6e66dd6",
   "metadata": {
    "papermill": {
     "duration": 0.002404,
     "end_time": "2023-04-03T03:33:56.344033",
     "exception": false,
     "start_time": "2023-04-03T03:33:56.341629",
     "status": "completed"
    },
    "tags": []
   },
   "source": [
    "**c. What is the expected queue length?**\n",
    "\n",
    "To find the expected queue length:\n",
    "- Step 1: find the mean number of customers in the system, L:\n",
    "\n",
    "Using Little's Law to find L: $L = \\lambda*W$ \n",
    "\n",
    "- Step 2: find the mean time a customer spends in the system, W:\n",
    "\n",
    "Using the fact that the system is in the steady state, the time a customer spends is exponentially distributed. Along with the time interval between arrivals is exponentially distributed,we have:\n",
    "\n",
    "$W = \\frac{1}{\\mu - \\lambda}$\n",
    "\n",
    "Substituting this into Little's Law, we get: $L = \\lambda \\frac{1}{\\mu - \\lambda}$\n",
    "\n",
    "Therefore, the expected queue length is:\n",
    "\n",
    "$L-1 = \\frac{\\lambda}{\\mu - \\lambda} - 1 = \\frac{-\\mu}{\\mu - \\lambda}$\n",
    "\n",
    "Note: L-1 because a singler server should not be included."
   ]
  },
  {
   "cell_type": "markdown",
   "id": "700d8550",
   "metadata": {
    "papermill": {
     "duration": 0.002406,
     "end_time": "2023-04-03T03:33:56.349050",
     "exception": false,
     "start_time": "2023-04-03T03:33:56.346644",
     "status": "completed"
    },
    "tags": []
   },
   "source": [
    "**d. Find a relationship between λ and μ that grants system stability**\n",
    "\n",
    "|                     | System condition | Queue state        | Average number of customers in the queue |\n",
    "|---------------------|------------------|--------------------|------------------------------------------|\n",
    "| $\\frac{λ}{2^n} < μ$ | stable           | steady             | finite                                   |\n",
    "| $\\frac{λ}{2^n} = μ$ | critical         | indefinitely       | infinite                                 |\n",
    "| $\\frac{λ}{2^n} > μ$ | unstable         | grow without bound | infinite                                 |\n",
    "\n",
    "Therefore, a relationship that grants system stability is: λ ≤ μ"
   ]
  },
  {
   "cell_type": "markdown",
   "id": "bb319b83",
   "metadata": {
    "papermill": {
     "duration": 0.00345,
     "end_time": "2023-04-03T03:33:56.355161",
     "exception": false,
     "start_time": "2023-04-03T03:33:56.351711",
     "status": "completed"
    },
    "tags": []
   },
   "source": [
    "**e. Obtain and analyze the expected number of customers in the system. Use the ratio η = μ/λ as your parameter. Interpret.**\n",
    "\n",
    "Answer:\n",
    "\n",
    "The utilization factor, η: a measure of the degree to which a system's resoucres are being used. When it's high, it leads to longer wait times and potentially reduced system performance.\n",
    "\n",
    "Using Little's Law: L = λW\n",
    "\n",
    "- L: the expected number of customers in a stable system\n",
    "- W: the average time a customer spends in the system\n",
    "- λ: the mean arrival rate\n",
    "\n",
    "With $W = \\frac{1}{μ - λ}$ and $η = \\frac{μ}{λ}$, we have: $W = \\frac{1}{λ(η-1)}$ and finally: \n",
    "\n",
    "$L = \\frac{λ}{λ(η-1)} = \\frac{1}{η-1}$\n",
    "\n",
    "Interpretation: \n",
    "\n",
    "The expected number of customers in the system is proportional to the utlization factor η. It approaches infinity as η approaches 1 (the mean service rate as nearly high as the mean arrival rate). Consequently, the system excesses congestion and customer wait time becomes infinity. The system performance would be improved if and only if we can lower the utilization factor such as priority queues or multiple servers."
   ]
  },
  {
   "cell_type": "markdown",
   "id": "a5124256",
   "metadata": {
    "papermill": {
     "duration": 0.002615,
     "end_time": "2023-04-03T03:33:56.361131",
     "exception": false,
     "start_time": "2023-04-03T03:33:56.358516",
     "status": "completed"
    },
    "tags": []
   },
   "source": [
    "#### Problem 2\n",
    "\n",
    "Customers arrive, following a Markovian process with rate λ > 0, at a store with two counters and no waiting room. The counters serve the customers according to a Markovian process with rate μ > 0. Model the system as a birth-and-death process. \n",
    "\n",
    "Question: When is this system stable? Compute its steady-state distribution, and plot the probability function π that characterizes it as a function of the ratio λ/μ. Show your code. Interpret\n",
    "\n",
    "Answer: \n",
    "\n",
    "The M/M/2 queueing system is stable when the traffic intensity is less than 1.\n",
    "\n",
    "$$\n",
    "\\rho = \\frac{\\lambda}{2*\\mu} < 1\n",
    "$$"
   ]
  },
  {
   "cell_type": "markdown",
   "id": "1e5c177c",
   "metadata": {
    "papermill": {
     "duration": 0.002425,
     "end_time": "2023-04-03T03:33:56.366380",
     "exception": false,
     "start_time": "2023-04-03T03:33:56.363955",
     "status": "completed"
    },
    "tags": []
   },
   "source": [
    "To compute its steady-state distribution and to plot the probability function $\\pi$ as a function of the ratio $\\lambda/2\\mu$, we can use the following code in Python:"
   ]
  },
  {
   "cell_type": "code",
   "execution_count": 1,
   "id": "c1ece5b0",
   "metadata": {
    "execution": {
     "iopub.execute_input": "2023-04-03T03:33:56.374075Z",
     "iopub.status.busy": "2023-04-03T03:33:56.373639Z",
     "iopub.status.idle": "2023-04-03T03:33:56.865947Z",
     "shell.execute_reply": "2023-04-03T03:33:56.864018Z"
    },
    "papermill": {
     "duration": 0.500315,
     "end_time": "2023-04-03T03:33:56.869347",
     "exception": false,
     "start_time": "2023-04-03T03:33:56.369032",
     "status": "completed"
    },
    "tags": []
   },
   "outputs": [
    {
     "data": {
      "image/png": "[encoded data removed]",
      "text/plain": [
       "<Figure size 640x480 with 1 Axes>"
      ]
     },
     "metadata": {},
     "output_type": "display_data"
    }
   ],
   "source": [
    "import numpy as np\n",
    "import matplotlib.pyplot as plt\n",
    "\n",
    "# number of servers\n",
    "s = 2\n",
    "# mean service rate\n",
    "mu = 1  \n",
    "# mean arrival rates - simulation in a range from 0 to s*mu\n",
    "# match the steady-state condition: lambda/s*mu < 1 or lambda < s*mu\n",
    "lam_vals = np.linspace(0, s*mu, num=100)  \n",
    "\n",
    "# a 3x100 matrix => simulate 100 records of (p0, p1, p2)\n",
    "pi = np.zeros((3, len(lam_vals)))  # steady-state probabilities\n",
    "\n",
    "# Compute steady-state probabilities for 100 different mean arrival rates\n",
    "for i, lam in enumerate(lam_vals):\n",
    "    val1 = lam/mu\n",
    "    val2 = lam**2/s*(mu**2)\n",
    "    val = 1 + val1 + val2\n",
    "    p0 = 1/val\n",
    "    p1 = (lam/mu) * p0\n",
    "    p2 = (lam**2/s*(mu**2)) * p0\n",
    "    pi[:, i] = [p0, p1, p2]\n",
    "\n",
    "# Plot probability function\n",
    "traffic_intensity = lam_vals/2*mu\n",
    "\n",
    "fig, ax = plt.subplots()\n",
    "ax.plot(traffic_intensity, pi[0, :], label=r'$\\pi_0$')\n",
    "ax.plot(traffic_intensity, pi[1, :], label=r'$\\pi_1$')\n",
    "ax.plot(traffic_intensity, pi[2, :], label=r'$\\pi_2$')\n",
    "ax.set_xlabel(r'Traffic intensity ($\\lambda/2\\mu$)')\n",
    "ax.set_ylabel('Probability')\n",
    "ax.set_ylim([0, 1])\n",
    "ax.legend()\n",
    "plt.show()"
   ]
  },
  {
   "cell_type": "markdown",
   "id": "809888fc",
   "metadata": {
    "papermill": {
     "duration": 0.00316,
     "end_time": "2023-04-03T03:33:56.876480",
     "exception": false,
     "start_time": "2023-04-03T03:33:56.873320",
     "status": "completed"
    },
    "tags": []
   },
   "source": [
    "**Interpretation:**\n",
    "\n",
    "The probability function π shows how the system's steady-state distribution changes as the mean arrival rate λ varies relative to the mean service rate μ. \n",
    "\n",
    "As the mean arrival rate increases (in a range from 0 to 2μ), the probability of finding the system empty (p0 - customers in the shop) decreases, while the probability of finding one or two customers in the system (p1 and p2) increases.\n",
    "\n",
    "The probability function has a peak at a certain traffic intensity value (λ/2μ = 1), which corresponds to the optimal operating point of the system. Beyond this point, the system becomes congested, and the performance deteriorates."
   ]
  }
 ],
 "metadata": {
  "kernelspec": {
   "display_name": "Python 3",
   "language": "python",
   "name": "python3"
  },
  "language_info": {
   "codemirror_mode": {
    "name": "ipython",
    "version": 3
   },
   "file_extension": ".py",
   "mimetype": "text/x-python",
   "name": "python",
   "nbconvert_exporter": "python",
   "pygments_lexer": "ipython3",
   "version": "3.7.12"
  },
  "papermill": {
   "default_parameters": {},
   "duration": 11.147903,
   "end_time": "2023-04-03T03:33:57.604789",
   "environment_variables": {},
   "exception": null,
   "input_path": "__notebook__.ipynb",
   "output_path": "__notebook__.ipynb",
   "parameters": {},
   "start_time": "2023-04-03T03:33:46.456886",
   "version": "2.4.0"
  }
 },
 "nbformat": 4,
 "nbformat_minor": 5
}
