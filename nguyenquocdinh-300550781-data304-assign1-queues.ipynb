{
 "cells": [
  {
   "cell_type": "markdown",
   "id": "d02b6150",
   "metadata": {
    "papermill": {
     "duration": 0.002966,
     "end_time": "2023-03-16T08:19:49.739678",
     "exception": false,
     "start_time": "2023-03-16T08:19:49.736712",
     "status": "completed"
    },
    "tags": []
   },
   "source": [
    "1. n independent identically distributed random variables which obey the Bernoulli distribution with Pr(Xi = 1) = p. Find the distribution of U = min and V = max\n",
    "\n",
    "Answer:\n",
    "\n",
    "The probability mass function (PMF) of a Bernoulli distribution is given by:\n",
    "* Pr(Xi = 1) = p \n",
    "* Pr(Xi = 0) = 1-p\n",
    "\n",
    "The value of U can only be 0 or 1, since the Xi are Bernoulli random variables. If any one of the Xi's is 1, then U = 1. Otherwise, if all of the Xi's are 0, then U = 0. Therefore, we have:\n",
    "* Pr(U = 0) = Pr(X1=0, X2=0,..., Xn=0) = (1-p)^n\n",
    "* Pr(U = 1) = 1 - Pr(U = 0) = 1 - (1-p)^n\n",
    "\n",
    "So the distribution of U is a Bernoulli distribution with parameter 1 - (1-p)^n\n",
    "\n",
    "Those things can also be applied to V. Therefore, the distribution of V is a Bernoulli distribution with parameter 1 - (1 - (1-p)^n)\n"
   ]
  },
  {
   "cell_type": "markdown",
   "id": "8ebe2e52",
   "metadata": {
    "papermill": {
     "duration": 0.001364,
     "end_time": "2023-03-16T08:19:49.743138",
     "exception": false,
     "start_time": "2023-03-16T08:19:49.741774",
     "status": "completed"
    },
    "tags": []
   },
   "source": [
    "2. how would you describe, using the Kendall-Lee notation, a system in which package arrive at regular times, e.g., one every 5 seconds, they are checked by 4 customer service representatives (CSR) that take a random time to verify their contents (this time may be assumed exponentially distributed with mean η > 0, and the CSR do not communicate). Every now and then, packages arrive with a red tag; red-tagged packages are immediately opened by any of the four CSR. The maximum line capacity is of one hundred packaged, and they arrive from the whole world\n",
    "\n",
    "Answer: D/M/4/4+K/∞/PQ\n",
    "\n",
    "* D: package arrives at regular times, e.g., one every 5 seconds\n",
    "* M: checked by 4 CSR that take a random time to verify their contents\n",
    "* 4: 4 CSR available to provide service\n",
    "* 4 + K: the system has a finite capacity of K = 100 packages in line\n",
    "* ∞: packages arrvive from the whole world\n",
    "* PQ: the system also has a special rule for red-tagged packages, which are immediately opened by any of the four CSRs\n"
   ]
  },
  {
   "cell_type": "markdown",
   "id": "1f8dd2ee",
   "metadata": {
    "papermill": {
     "duration": 0.001483,
     "end_time": "2023-03-16T08:19:49.746231",
     "exception": false,
     "start_time": "2023-03-16T08:19:49.744748",
     "status": "completed"
    },
    "tags": []
   },
   "source": [
    "3. Assume all CSR are busy. What's the expected time for the first red-tagged package in the line to be opened.\n",
    "\n",
    "Answer:\n",
    "* the service time (or the expected time for a package in the line to be opened), E[service-time] = 1/µ\n",
    "* the mean service rate, µ\n",
    "* the mean wait in the queue, W_q\n",
    "* the mean wait in the system, W = W_q + 1/µ\n",
    "\n",
    "Because all four CSRs are busy, a red-tagged package should have to wait in the priority queue until one of the CSRs becomes available. In this case, we only care about the expected time for the first red-tagged package in the line to be opened. \n",
    "\n",
    "To find it, we will use Little's Law and the result would be:\n",
    "\n",
    "W_q_of_the_first = E[service_time] = 1/µ\n",
    "\n",
    "Because all four CSRs would take a random time to verify any package content, this expected time would be exponentially distributed with mean η > 0. It means:\n",
    "\n",
    "W_q_of_the_first = E[service_time] = η = 1/µ"
   ]
  },
  {
   "cell_type": "markdown",
   "id": "5d37835b",
   "metadata": {
    "papermill": {
     "duration": 0.001408,
     "end_time": "2023-03-16T08:19:49.749261",
     "exception": false,
     "start_time": "2023-03-16T08:19:49.747853",
     "status": "completed"
    },
    "tags": []
   },
   "source": [
    "4. \n",
    "\n",
    "Answer: \n",
    "To parametrize the Erlang distribution in terms of its mean µ, we can use the fact that the mean of an Erlang distribution with parameters k and θ is given by µ = k/θ. Solving for k, we get k = µθ.\n",
    "\n",
    "Substituting this value of k into the density function, we get:\n",
    "\n",
    "fZ(z) = θ(µθ)^(µθ - 1) z^(µθ - 1) e^(-θz) 1R+ (z)\n",
    "\n",
    "where 1R+ (z) is the indicator function, which is 1 if z ≥ 0 and 0 otherwise.\n",
    "\n",
    "We can implement this density function in Python using the following code:\n",
    "\n",
    "python\n",
    "Copy code\n",
    "import numpy as np\n",
    "\n",
    "def erlang_density(z, mu):\n",
    "    k = mu\n",
    "    theta = mu / z\n",
    "    return theta * (mu*theta)**(mu*theta - 1) * z**(mu*theta - 1) * np.exp(-theta*z) * (z >= 0)\n",
    "To compute the variance of this distribution, we can use the formula Var(Z) = k/θ^2. Substituting k = µθ, we get Var(Z) = µ/θ. Therefore, the variance of the reparametrized distribution is given by Var(Z) = µ^2/(µθ) = µ/θ.\n",
    "\n",
    "We can generate plots of the reparametrized density for µ = 3 and varying values of the variance (which is proportional to 1/θ) using the following code:\n",
    "\n",
    "css\n",
    "Copy code\n",
    "import matplotlib.pyplot as plt\n",
    "\n",
    "mu = 3\n",
    "variances = [0.1, 0.5, 1, 2]\n",
    "\n",
    "for var in variances:\n",
    "    theta = mu/var\n",
    "    x = np.linspace(0, 10, 1000)\n",
    "    y = erlang_density(x, mu)\n",
    "    plt.plot(x, y, label='variance = {}'.format(var))\n",
    "    plt.legend()\n",
    "\n",
    "plt.show()\n",
    "This will generate a plot with four curves, each corresponding to a different value of the variance (0.1, 0.5, 1, and 2). As the variance increases, the distribution becomes more spread out and less peaked."
   ]
  }
 ],
 "metadata": {
  "kernelspec": {
   "display_name": "Python 3",
   "language": "python",
   "name": "python3"
  },
  "language_info": {
   "codemirror_mode": {
    "name": "ipython",
    "version": 3
   },
   "file_extension": ".py",
   "mimetype": "text/x-python",
   "name": "python",
   "nbconvert_exporter": "python",
   "pygments_lexer": "ipython3",
   "version": "3.7.12"
  },
  "papermill": {
   "default_parameters": {},
   "duration": 9.983441,
   "end_time": "2023-03-16T08:19:50.374830",
   "environment_variables": {},
   "exception": null,
   "input_path": "__notebook__.ipynb",
   "output_path": "__notebook__.ipynb",
   "parameters": {},
   "start_time": "2023-03-16T08:19:40.391389",
   "version": "2.4.0"
  }
 },
 "nbformat": 4,
 "nbformat_minor": 5
}
