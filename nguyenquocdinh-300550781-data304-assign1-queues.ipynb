{
 "cells": [
  {
   "cell_type": "markdown",
   "id": "28319a0e",
   "metadata": {
    "papermill": {
     "duration": 0.00313,
     "end_time": "2023-03-15T20:58:38.174967",
     "exception": false,
     "start_time": "2023-03-15T20:58:38.171837",
     "status": "completed"
    },
    "tags": []
   },
   "source": [
    "1. n independent identically distributed random variables which obey the Bernoulli distribution with Pr(Xi = 1) = p. Find the distribution of U = min and V = max\n",
    "\n",
    "Answer:\n",
    "\n",
    "The probability mass function (PMF) of a Bernoulli distribution is given by:\n",
    "* Pr(Xi = 1) = p \n",
    "* Pr(Xi = 0) = 1-p\n",
    "\n",
    "The value of U can only be 0 or 1, since the Xi are Bernoulli random variables. If any one of the Xi's is 1, then U = 1. Otherwise, if all of the Xi's are 0, then U = 0. Therefore, we have:\n",
    "* Pr(U = 0) = Pr(X1=0, X2=0,..., Xn=0) = (1-p)^n\n",
    "* Pr(U = 1) = 1 - Pr(U = 0) = 1 - (1-p)^n\n",
    "\n",
    "So the distribution of U is a Bernoulli distribution with parameter 1 - (1-p)^n\n",
    "\n",
    "Those things can also be applied to V. Therefore, the distribution of V is a Bernoulli distribution with parameter 1 - (1 - (1-p)^n)\n"
   ]
  },
  {
   "cell_type": "markdown",
   "id": "ea96e52b",
   "metadata": {
    "papermill": {
     "duration": 0.001712,
     "end_time": "2023-03-15T20:58:38.179076",
     "exception": false,
     "start_time": "2023-03-15T20:58:38.177364",
     "status": "completed"
    },
    "tags": []
   },
   "source": [
    "2. how would you describe, using the Kendall-Lee notation, a system in which package arrive at regular times, e.g., one every 5 seconds, they are checked by 4 customer service representatives (CSR) that take a random time to verify their contents (this time may be assumed exponentially distributed with mean η > 0, and the CSR do not communicate). Every now and then, packages arrive with a red tag; red-tagged packages are immediately opened by any of the four CSR. The maximum line capacity is of one hundred packaged, and they arrive from the whole world\n",
    "\n",
    "Answer: G/G/4/N+M/N\n",
    "* G/G: arrivals follow a general distribution and service times follow a general distribution\n",
    "* 4: there are 4 servers (CSR) available to provide service\n",
    "* N+M: the system has a finite capacity of N = 100 packages in line, and M = infinity for packages that have already been processed by the CSRs and are waiting to be picked up by customers.\n",
    "* N: packages arrive from the whole world.\n",
    "* The system also has a special rule for red-tagged packages, which are immediately opened by any of the four CSRs. This can be represented as an extra rule: preemptive priority.\n",
    "\n",
    "Additionally, we can specify that the mean service time is η for both regular packages and red-tagged packages. Therefore, the service time distribution can be represented as M/E(η).\n",
    "\n",
    "* D: package arrives at regular times, e.g., one every 5 seconds\n",
    "* M: checked by 4 CSR that take a random time to verify their contents\n",
    "* 4: 4 CSR available to provide service\n",
    "* \n",
    "\n",
    "https://en.wikipedia.org/wiki/Kendall%27s_notation#:~:text=D.%20G.%20Kendall%20proposed%20describing%20queueing,channels%20open%20at%20the%20node.\n",
    "\n",
    "\n",
    "\n",
    "\n",
    "\n",
    "Kendall-Lee notation - 1/2/3/4/5/6: \n",
    "* 1. arrival process\n",
    "* 2. service time distribution\n",
    "* 3. number of servers\n",
    "* 4. service discipline\n",
    "* 5. maximum number of customers in the system\n",
    "* 6. size of the customer population \n",
    "\n",
    "Moreover, the accepted notations:\n",
    "* M - interarrival (or service) times are iid exponential \n",
    "* D - interarrival (or service) times are deterministic\n",
    "* GI(G) - interarrival (or service) times are iid and governed by some general distribution\n",
    "\n",
    "Example:\n",
    "* M/M/3/\n",
    "\n",
    "\n",
    "In this system, the arrival process is regular, with packages arriving every five seconds, so we can denote it by M (for Markovian) or D (for deterministic), depending on whether there is variability in the inter-arrival times. Let's assume it is M.\n",
    "\n",
    "The service time distribution for the four CSRs is exponentially distributed with mean η > 0, so we can denote it by M/Exp(η)/4, where M denotes Markovian arrivals, Exp(η) denotes an exponential service time distribution with mean η, and 4 denotes the number of servers.\n",
    "\n",
    "When a red-tagged package arrives, it is immediately opened by any of the four CSRs, so we can model this as a priority queue where red-tagged packages have priority over regular packages. This can be denoted by M/Exp(η)/4+M/0/1, where 0 denotes an immediate service time for red-tagged packages, and 1 denotes a single server for the priority queue.\n",
    "\n",
    "The maximum line capacity is 100 packages, which means that the system has a finite buffer. We can denote this by M/Exp(η)/4+M/0/1/100, where 100 denotes the maximum capacity of the buffer.\n",
    "\n",
    "Putting everything together, the Kendall-Lee notation for this system is M/Exp(η)/4+M/0/1/100.\n"
   ]
  },
  {
   "cell_type": "markdown",
   "id": "03d18c0d",
   "metadata": {
    "papermill": {
     "duration": 0.001633,
     "end_time": "2023-03-15T20:58:38.182625",
     "exception": false,
     "start_time": "2023-03-15T20:58:38.180992",
     "status": "completed"
    },
    "tags": []
   },
   "source": [
    "3. Assume all CSR are busy. What's the expected time for the first red-tagged package in the line to be opened.\n",
    "\n",
    "If all four CSRs are busy, a red-tagged package will have to wait in the priority queue until one of the CSRs becomes available. Let's denote the expected time for a red-tagged package to be opened as W_open, and the expected time for a red-tagged package to be checked (i.e., to complete the service time) as W_check.\n",
    "\n",
    "To find W_open, we can use Little's law, which states that the expected number of customers in a queuing system is equal to the arrival rate times the expected time spent in the system. In this case, the arrival rate of red-tagged packages is the same as the service rate for the priority queue, which is 1/η (since the service time for red-tagged packages is 0). The expected time spent in the priority queue is given by the Pollaczek-Khinchine formula:\n",
    "\n",
    "Wq = (1 - ρ) / (μ - λ)\n",
    "\n",
    "where ρ is the traffic intensity (the ratio of arrival rate to service rate), μ is the service rate, and λ is the arrival rate. In this case, we have:\n",
    "\n",
    "ρ = λ / μ = 1 / 4\n",
    "μ = 1 / η\n",
    "λ = 1 / η\n",
    "\n",
    "Therefore:\n",
    "\n",
    "Wq = (1 - ρ) / (μ - λ) = (1 - 1/4) / (1/η - 1/η) = 3η/4.\n",
    "\n",
    "Since there is only one server in the priority queue, the expected time for a red-tagged package to be opened is simply equal to the expected time spent in the priority queue, i.e., W_open = Wq = 3η/4.\n",
    "\n",
    "To find W_check, we can use the fact that the service time for red-tagged packages is exponentially distributed with mean η. Therefore, the expected time for a red-tagged package to be checked is simply equal to the mean service time, i.e., W_check = η."
   ]
  },
  {
   "cell_type": "markdown",
   "id": "27fde9d7",
   "metadata": {
    "papermill": {
     "duration": 0.001612,
     "end_time": "2023-03-15T20:58:38.186081",
     "exception": false,
     "start_time": "2023-03-15T20:58:38.184469",
     "status": "completed"
    },
    "tags": []
   },
   "source": [
    "4. \n",
    "\n",
    "Answer: \n",
    "To parametrize the Erlang distribution in terms of its mean µ, we can use the fact that the mean of an Erlang distribution with parameters k and θ is given by µ = k/θ. Solving for k, we get k = µθ.\n",
    "\n",
    "Substituting this value of k into the density function, we get:\n",
    "\n",
    "fZ(z) = θ(µθ)^(µθ - 1) z^(µθ - 1) e^(-θz) 1R+ (z)\n",
    "\n",
    "where 1R+ (z) is the indicator function, which is 1 if z ≥ 0 and 0 otherwise.\n",
    "\n",
    "We can implement this density function in Python using the following code:\n",
    "\n",
    "python\n",
    "Copy code\n",
    "import numpy as np\n",
    "\n",
    "def erlang_density(z, mu):\n",
    "    k = mu\n",
    "    theta = mu / z\n",
    "    return theta * (mu*theta)**(mu*theta - 1) * z**(mu*theta - 1) * np.exp(-theta*z) * (z >= 0)\n",
    "To compute the variance of this distribution, we can use the formula Var(Z) = k/θ^2. Substituting k = µθ, we get Var(Z) = µ/θ. Therefore, the variance of the reparametrized distribution is given by Var(Z) = µ^2/(µθ) = µ/θ.\n",
    "\n",
    "We can generate plots of the reparametrized density for µ = 3 and varying values of the variance (which is proportional to 1/θ) using the following code:\n",
    "\n",
    "css\n",
    "Copy code\n",
    "import matplotlib.pyplot as plt\n",
    "\n",
    "mu = 3\n",
    "variances = [0.1, 0.5, 1, 2]\n",
    "\n",
    "for var in variances:\n",
    "    theta = mu/var\n",
    "    x = np.linspace(0, 10, 1000)\n",
    "    y = erlang_density(x, mu)\n",
    "    plt.plot(x, y, label='variance = {}'.format(var))\n",
    "    plt.legend()\n",
    "\n",
    "plt.show()\n",
    "This will generate a plot with four curves, each corresponding to a different value of the variance (0.1, 0.5, 1, and 2). As the variance increases, the distribution becomes more spread out and less peaked."
   ]
  }
 ],
 "metadata": {
  "kernelspec": {
   "display_name": "Python 3",
   "language": "python",
   "name": "python3"
  },
  "language_info": {
   "codemirror_mode": {
    "name": "ipython",
    "version": 3
   },
   "file_extension": ".py",
   "mimetype": "text/x-python",
   "name": "python",
   "nbconvert_exporter": "python",
   "pygments_lexer": "ipython3",
   "version": "3.7.12"
  },
  "papermill": {
   "default_parameters": {},
   "duration": 12.539033,
   "end_time": "2023-03-15T20:58:38.914854",
   "environment_variables": {},
   "exception": null,
   "input_path": "__notebook__.ipynb",
   "output_path": "__notebook__.ipynb",
   "parameters": {},
   "start_time": "2023-03-15T20:58:26.375821",
   "version": "2.4.0"
  }
 },
 "nbformat": 4,
 "nbformat_minor": 5
}
