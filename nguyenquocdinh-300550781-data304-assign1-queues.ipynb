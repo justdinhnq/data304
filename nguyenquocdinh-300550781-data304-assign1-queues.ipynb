{
 "cells": [
  {
   "cell_type": "markdown",
   "id": "278f2147",
   "metadata": {
    "papermill": {
     "duration": 0.002366,
     "end_time": "2023-03-16T00:48:44.278336",
     "exception": false,
     "start_time": "2023-03-16T00:48:44.275970",
     "status": "completed"
    },
    "tags": []
   },
   "source": [
    "1. n independent identically distributed random variables which obey the Bernoulli distribution with Pr(Xi = 1) = p. Find the distribution of U = min and V = max\n",
    "\n",
    "Answer:\n",
    "\n",
    "The probability mass function (PMF) of a Bernoulli distribution is given by:\n",
    "* Pr(Xi = 1) = p \n",
    "* Pr(Xi = 0) = 1-p\n",
    "\n",
    "The value of U can only be 0 or 1, since the Xi are Bernoulli random variables. If any one of the Xi's is 1, then U = 1. Otherwise, if all of the Xi's are 0, then U = 0. Therefore, we have:\n",
    "* Pr(U = 0) = Pr(X1=0, X2=0,..., Xn=0) = (1-p)^n\n",
    "* Pr(U = 1) = 1 - Pr(U = 0) = 1 - (1-p)^n\n",
    "\n",
    "So the distribution of U is a Bernoulli distribution with parameter 1 - (1-p)^n\n",
    "\n",
    "Those things can also be applied to V. Therefore, the distribution of V is a Bernoulli distribution with parameter 1 - (1 - (1-p)^n)\n"
   ]
  },
  {
   "cell_type": "markdown",
   "id": "740c8823",
   "metadata": {
    "papermill": {
     "duration": 0.001338,
     "end_time": "2023-03-16T00:48:44.281476",
     "exception": false,
     "start_time": "2023-03-16T00:48:44.280138",
     "status": "completed"
    },
    "tags": []
   },
   "source": [
    "2. how would you describe, using the Kendall-Lee notation, a system in which package arrive at regular times, e.g., one every 5 seconds, they are checked by 4 customer service representatives (CSR) that take a random time to verify their contents (this time may be assumed exponentially distributed with mean η > 0, and the CSR do not communicate). Every now and then, packages arrive with a red tag; red-tagged packages are immediately opened by any of the four CSR. The maximum line capacity is of one hundred packaged, and they arrive from the whole world\n",
    "\n",
    "Answer: D/M/4/4+K/∞/PQ\n",
    "\n",
    "* D: package arrives at regular times, e.g., one every 5 seconds\n",
    "* M: checked by 4 CSR that take a random time to verify their contents\n",
    "* 4: 4 CSR available to provide service\n",
    "* 4 + K: the system has a finite capacity of K = 100 packages in line\n",
    "* ∞: packages arrvive from the whole world\n",
    "* PQ: the system also has a special rule for red-tagged packages, which are immediately opened by any of the four CSRs\n"
   ]
  },
  {
   "cell_type": "markdown",
   "id": "8b3c6e5b",
   "metadata": {
    "papermill": {
     "duration": 0.001271,
     "end_time": "2023-03-16T00:48:44.284259",
     "exception": false,
     "start_time": "2023-03-16T00:48:44.282988",
     "status": "completed"
    },
    "tags": []
   },
   "source": [
    "3. Assume all CSR are busy. What's the expected time for the first red-tagged package in the line to be opened.\n",
    "\n",
    "If all four CSRs are busy, a red-tagged package will have to wait in the priority queue until one of the CSRs becomes available. Let's denote the expected time for a red-tagged package to be opened as W_open, and the expected time for a red-tagged package to be checked (i.e., to complete the service time) as W_check.\n",
    "\n",
    "To find W_open, we can use Little's law, which states that the expected number of customers in a queuing system is equal to the arrival rate times the expected time spent in the system. In this case, the arrival rate of red-tagged packages is the same as the service rate for the priority queue, which is 1/η (since the service time for red-tagged packages is 0). The expected time spent in the priority queue is given by the Pollaczek-Khinchine formula:\n",
    "\n",
    "Wq = (1 - ρ) / (μ - λ)\n",
    "\n",
    "where ρ is the traffic intensity (the ratio of arrival rate to service rate), μ is the service rate, and λ is the arrival rate. In this case, we have:\n",
    "\n",
    "ρ = λ / μ = 1 / 4\n",
    "μ = 1 / η\n",
    "λ = 1 / η\n",
    "\n",
    "Therefore:\n",
    "\n",
    "Wq = (1 - ρ) / (μ - λ) = (1 - 1/4) / (1/η - 1/η) = 3η/4.\n",
    "\n",
    "Since there is only one server in the priority queue, the expected time for a red-tagged package to be opened is simply equal to the expected time spent in the priority queue, i.e., W_open = Wq = 3η/4.\n",
    "\n",
    "To find W_check, we can use the fact that the service time for red-tagged packages is exponentially distributed with mean η. Therefore, the expected time for a red-tagged package to be checked is simply equal to the mean service time, i.e., W_check = η."
   ]
  },
  {
   "cell_type": "markdown",
   "id": "07de0d8d",
   "metadata": {
    "papermill": {
     "duration": 0.001238,
     "end_time": "2023-03-16T00:48:44.286959",
     "exception": false,
     "start_time": "2023-03-16T00:48:44.285721",
     "status": "completed"
    },
    "tags": []
   },
   "source": [
    "4. \n",
    "\n",
    "Answer: \n",
    "To parametrize the Erlang distribution in terms of its mean µ, we can use the fact that the mean of an Erlang distribution with parameters k and θ is given by µ = k/θ. Solving for k, we get k = µθ.\n",
    "\n",
    "Substituting this value of k into the density function, we get:\n",
    "\n",
    "fZ(z) = θ(µθ)^(µθ - 1) z^(µθ - 1) e^(-θz) 1R+ (z)\n",
    "\n",
    "where 1R+ (z) is the indicator function, which is 1 if z ≥ 0 and 0 otherwise.\n",
    "\n",
    "We can implement this density function in Python using the following code:\n",
    "\n",
    "python\n",
    "Copy code\n",
    "import numpy as np\n",
    "\n",
    "def erlang_density(z, mu):\n",
    "    k = mu\n",
    "    theta = mu / z\n",
    "    return theta * (mu*theta)**(mu*theta - 1) * z**(mu*theta - 1) * np.exp(-theta*z) * (z >= 0)\n",
    "To compute the variance of this distribution, we can use the formula Var(Z) = k/θ^2. Substituting k = µθ, we get Var(Z) = µ/θ. Therefore, the variance of the reparametrized distribution is given by Var(Z) = µ^2/(µθ) = µ/θ.\n",
    "\n",
    "We can generate plots of the reparametrized density for µ = 3 and varying values of the variance (which is proportional to 1/θ) using the following code:\n",
    "\n",
    "css\n",
    "Copy code\n",
    "import matplotlib.pyplot as plt\n",
    "\n",
    "mu = 3\n",
    "variances = [0.1, 0.5, 1, 2]\n",
    "\n",
    "for var in variances:\n",
    "    theta = mu/var\n",
    "    x = np.linspace(0, 10, 1000)\n",
    "    y = erlang_density(x, mu)\n",
    "    plt.plot(x, y, label='variance = {}'.format(var))\n",
    "    plt.legend()\n",
    "\n",
    "plt.show()\n",
    "This will generate a plot with four curves, each corresponding to a different value of the variance (0.1, 0.5, 1, and 2). As the variance increases, the distribution becomes more spread out and less peaked."
   ]
  }
 ],
 "metadata": {
  "kernelspec": {
   "display_name": "Python 3",
   "language": "python",
   "name": "python3"
  },
  "language_info": {
   "codemirror_mode": {
    "name": "ipython",
    "version": 3
   },
   "file_extension": ".py",
   "mimetype": "text/x-python",
   "name": "python",
   "nbconvert_exporter": "python",
   "pygments_lexer": "ipython3",
   "version": "3.7.12"
  },
  "papermill": {
   "default_parameters": {},
   "duration": 10.662199,
   "end_time": "2023-03-16T00:48:44.910716",
   "environment_variables": {},
   "exception": null,
   "input_path": "__notebook__.ipynb",
   "output_path": "__notebook__.ipynb",
   "parameters": {},
   "start_time": "2023-03-16T00:48:34.248517",
   "version": "2.4.0"
  }
 },
 "nbformat": 4,
 "nbformat_minor": 5
}
