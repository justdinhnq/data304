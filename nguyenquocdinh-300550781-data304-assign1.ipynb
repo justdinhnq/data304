{
 "cells": [
  {
   "cell_type": "markdown",
   "id": "ff8b00d8",
   "metadata": {
    "papermill": {
     "duration": 0.006554,
     "end_time": "2023-03-14T19:23:32.908404",
     "exception": false,
     "start_time": "2023-03-14T19:23:32.901850",
     "status": "completed"
    },
    "tags": []
   },
   "source": [
    "1. r: radius of a circle (random number) [0,1]\n",
    "\n",
    "The area of the circle: A = πr^2\n",
    "\n",
    "a. a list of n tuples, where each tuple is a pair (ri, Ai)"
   ]
  },
  {
   "cell_type": "code",
   "execution_count": 1,
   "id": "c190294c",
   "metadata": {
    "execution": {
     "iopub.execute_input": "2023-03-14T19:23:32.921889Z",
     "iopub.status.busy": "2023-03-14T19:23:32.921343Z",
     "iopub.status.idle": "2023-03-14T19:23:32.936275Z",
     "shell.execute_reply": "2023-03-14T19:23:32.935224Z"
    },
    "papermill": {
     "duration": 0.025311,
     "end_time": "2023-03-14T19:23:32.939217",
     "exception": false,
     "start_time": "2023-03-14T19:23:32.913906",
     "status": "completed"
    },
    "tags": []
   },
   "outputs": [
    {
     "name": "stdout",
     "output_type": "stream",
     "text": [
      "[(0.052363598850944326, 0.008614078932626775), (0.08718667752263232, 0.023880869138467153), (0.4072417636703983, 0.521020116797811), (0.10770023493843905, 0.036440403233651254), (0.9011988779516946, 2.5514740599431343), (0.0381536661023224, 0.004573223453722671), (0.5362020400339269, 0.9032475591114266), (0.33219769850967984, 0.3466914339927522), (0.8520866189293687, 2.2809583920345604), (0.1596623967219699, 0.08008573416499135)]\n"
     ]
    }
   ],
   "source": [
    "import random\n",
    "import math\n",
    "\n",
    "# set the random seed to 123 for reproducibility\n",
    "random.seed(123)\n",
    "\n",
    "n=10\n",
    "L =[]\n",
    "\n",
    "for i in range(n):\n",
    "    # generate a random number between 0 and 1\n",
    "    r = random.uniform(0, 1)\n",
    "    # calculatet the area \n",
    "    A = math.pi * r**2\n",
    "    # each tuple is a pair (r,A)\n",
    "    L.append((r, A))\n",
    "    \n",
    "print(L)"
   ]
  },
  {
   "cell_type": "markdown",
   "id": "b4a963de",
   "metadata": {
    "papermill": {
     "duration": 0.005185,
     "end_time": "2023-03-14T19:23:32.950740",
     "exception": false,
     "start_time": "2023-03-14T19:23:32.945555",
     "status": "completed"
    },
    "tags": []
   },
   "source": [
    "b. the means of the ri and Ai"
   ]
  },
  {
   "cell_type": "code",
   "execution_count": 2,
   "id": "3ec39a14",
   "metadata": {
    "execution": {
     "iopub.execute_input": "2023-03-14T19:23:32.963502Z",
     "iopub.status.busy": "2023-03-14T19:23:32.963123Z",
     "iopub.status.idle": "2023-03-14T19:23:32.970247Z",
     "shell.execute_reply": "2023-03-14T19:23:32.969055Z"
    },
    "papermill": {
     "duration": 0.017567,
     "end_time": "2023-03-14T19:23:32.973690",
     "exception": false,
     "start_time": "2023-03-14T19:23:32.956123",
     "status": "completed"
    },
    "tags": []
   },
   "outputs": [
    {
     "name": "stdout",
     "output_type": "stream",
     "text": [
      "Mean r: 0.34739935732313765\n",
      "Mean A: 0.6756985870803144\n"
     ]
    }
   ],
   "source": [
    "sum_r = 0\n",
    "sum_A = 0\n",
    "\n",
    "for r, A in L:\n",
    "    sum_r += r\n",
    "    sum_A += A\n",
    "mean_r = sum_r / n\n",
    "mean_A = sum_A / n\n",
    "\n",
    "print(\"Mean r:\", mean_r)\n",
    "print(\"Mean A:\", mean_A)\n"
   ]
  },
  {
   "cell_type": "markdown",
   "id": "d94d7217",
   "metadata": {
    "papermill": {
     "duration": 0.005356,
     "end_time": "2023-03-14T19:23:32.985111",
     "exception": false,
     "start_time": "2023-03-14T19:23:32.979755",
     "status": "completed"
    },
    "tags": []
   },
   "source": [
    "c. π(mean r)^2 in comparison with mean A. Comment on mean_r"
   ]
  },
  {
   "cell_type": "code",
   "execution_count": 3,
   "id": "ec3859ec",
   "metadata": {
    "execution": {
     "iopub.execute_input": "2023-03-14T19:23:32.998011Z",
     "iopub.status.busy": "2023-03-14T19:23:32.997600Z",
     "iopub.status.idle": "2023-03-14T19:23:33.799929Z",
     "shell.execute_reply": "2023-03-14T19:23:33.798505Z"
    },
    "papermill": {
     "duration": 0.812922,
     "end_time": "2023-03-14T19:23:33.803574",
     "exception": false,
     "start_time": "2023-03-14T19:23:32.990652",
     "status": "completed"
    },
    "tags": []
   },
   "outputs": [
    {
     "name": "stdout",
     "output_type": "stream",
     "text": [
      "π(mean r)^2 = 0.7856841037831552\n",
      "mean A = 1.0475366177110117\n"
     ]
    }
   ],
   "source": [
    "n = 1000000\n",
    "sum_r = 0\n",
    "sum_A = 0\n",
    "for i in range(n):\n",
    "    r = random.uniform(0, 1)\n",
    "    A = math.pi * r**2\n",
    "    sum_r += r\n",
    "    sum_A += A\n",
    "mean_r = sum_r / n\n",
    "mean_A = sum_A / n\n",
    "\n",
    "pi_mean_r_squared = math.pi * mean_r**2\n",
    "print(\"π(mean r)^2 =\", pi_mean_r_squared)\n",
    "print(\"mean A =\", mean_A)\n"
   ]
  },
  {
   "cell_type": "markdown",
   "id": "f0f3a621",
   "metadata": {
    "papermill": {
     "duration": 0.005505,
     "end_time": "2023-03-14T19:23:33.815249",
     "exception": false,
     "start_time": "2023-03-14T19:23:33.809744",
     "status": "completed"
    },
    "tags": []
   },
   "source": [
    "We can see that the value of π(mean_r)^2 is close to, but not exactly equal, mean A. This is because \n",
    "* mean_r is an estimate of the expected value of r\n",
    "* π(mean r)^2 is an estimate of the expected value of A\n",
    "\n",
    "The estimate of the expecte value of A is biased, because A is a non-linear function of r, so the expected value of A is not equal to the expected value of πr^2. \n",
    "\n",
    "However, as the sample size, n, increases, the estimate of the expected value of A becomes more accurate, and π(mean_r)^2 becomes closer to mean_A.\n",
    "\n",
    "In this example, we can see that increasing n from 10 to 1million has reduced the difference between π(mean_r)^2 and mean_A"
   ]
  },
  {
   "cell_type": "markdown",
   "id": "c7c0ac08",
   "metadata": {
    "papermill": {
     "duration": 0.005228,
     "end_time": "2023-03-14T19:23:33.826100",
     "exception": false,
     "start_time": "2023-03-14T19:23:33.820872",
     "status": "completed"
    },
    "tags": []
   },
   "source": [
    "2. \"at least one double-6 on 24 throws of two die\"\n",
    "\n",
    "a. count how many times this event occurs over n trials. Use a suitable value of n in order to comment on whether the probability of this event occurring >= or <= 1/2. Use the random seed of 123"
   ]
  },
  {
   "cell_type": "code",
   "execution_count": 4,
   "id": "465b323f",
   "metadata": {
    "execution": {
     "iopub.execute_input": "2023-03-14T19:23:33.839091Z",
     "iopub.status.busy": "2023-03-14T19:23:33.838669Z",
     "iopub.status.idle": "2023-03-14T19:23:39.433614Z",
     "shell.execute_reply": "2023-03-14T19:23:39.432079Z"
    },
    "papermill": {
     "duration": 5.604893,
     "end_time": "2023-03-14T19:23:39.436459",
     "exception": false,
     "start_time": "2023-03-14T19:23:33.831566",
     "status": "completed"
    },
    "tags": []
   },
   "outputs": [
    {
     "name": "stdout",
     "output_type": "stream",
     "text": [
      "0.4913\n"
     ]
    }
   ],
   "source": [
    "import random\n",
    "\n",
    "random.seed(123)\n",
    "\n",
    "def roll_dice():\n",
    "    return random.randint(1, 6), random.randint(1, 6)\n",
    "\n",
    "def at_least_one_double_six():\n",
    "    for i in range(24):\n",
    "        if roll_dice() == (6, 6):\n",
    "            return True\n",
    "    return False\n",
    "\n",
    "def simulate(n):\n",
    "    count = 0\n",
    "    for i in range(n):\n",
    "        if at_least_one_double_six():\n",
    "            count += 1\n",
    "    return count/n\n",
    "\n",
    "print(simulate(100000))"
   ]
  },
  {
   "cell_type": "markdown",
   "id": "e49bb492",
   "metadata": {
    "papermill": {
     "duration": 0.005326,
     "end_time": "2023-03-14T19:23:39.447558",
     "exception": false,
     "start_time": "2023-03-14T19:23:39.442232",
     "status": "completed"
    },
    "tags": []
   },
   "source": [
    "Answer: running this code, we get an output of approximately 0.491, which means that the probability of getting at least one double 6 in 24 throws of two dices is less than 1/2.\n",
    "\n",
    "b. how many throws of two die would be required so that the probability of at least one double-6 is greater than 1/2 but as small as possible"
   ]
  },
  {
   "cell_type": "code",
   "execution_count": 5,
   "id": "db5a0ef7",
   "metadata": {
    "execution": {
     "iopub.execute_input": "2023-03-14T19:23:39.460479Z",
     "iopub.status.busy": "2023-03-14T19:23:39.460068Z",
     "iopub.status.idle": "2023-03-14T19:23:39.468778Z",
     "shell.execute_reply": "2023-03-14T19:23:39.467875Z"
    },
    "papermill": {
     "duration": 0.018014,
     "end_time": "2023-03-14T19:23:39.471109",
     "exception": false,
     "start_time": "2023-03-14T19:23:39.453095",
     "status": "completed"
    },
    "tags": []
   },
   "outputs": [
    {
     "name": "stdout",
     "output_type": "stream",
     "text": [
      "32\n"
     ]
    }
   ],
   "source": [
    "import random\n",
    "\n",
    "random.seed(123)\n",
    "\n",
    "def roll_dice():\n",
    "    return random.randint(1,6), random.randint(1,6)\n",
    "\n",
    "def at_least_one_double_six(num_rolls):\n",
    "    for i in range(num_rolls):\n",
    "        if roll_dice() == (6,6):\n",
    "            return True\n",
    "    return False\n",
    "\n",
    "def find_num_rolls():\n",
    "    lower_bound = 1\n",
    "    upper_bound = 1000\n",
    "    while lower_bound < upper_bound:\n",
    "        mid = (lower_bound + upper_bound) // 2\n",
    "        if at_least_one_double_six(mid):\n",
    "            upper_bound = mid\n",
    "        else:\n",
    "            lower_bound = mid + 1\n",
    "    return upper_bound\n",
    "\n",
    "print(find_num_rolls())"
   ]
  },
  {
   "cell_type": "markdown",
   "id": "dbb6fc44",
   "metadata": {
    "papermill": {
     "duration": 0.005389,
     "end_time": "2023-03-14T19:23:39.483057",
     "exception": false,
     "start_time": "2023-03-14T19:23:39.477668",
     "status": "completed"
    },
    "tags": []
   },
   "source": [
    "Answer: running this code, we get an output of 32, which means that we need to roll two dice 32 times to have a probability of at least 1/2 of getting at least one double 6."
   ]
  },
  {
   "cell_type": "markdown",
   "id": "37cae0fa",
   "metadata": {
    "papermill": {
     "duration": 0.00515,
     "end_time": "2023-03-14T19:23:39.493622",
     "exception": false,
     "start_time": "2023-03-14T19:23:39.488472",
     "status": "completed"
    },
    "tags": []
   },
   "source": [
    "3. A random variate from the Binomial distribution Bin(n=5, p=3/4)\n",
    "\n",
    "We want this table lookup to be as fast as possible by making the average number of steps through the for loop in the function as small as possible\n",
    "\n",
    "a. tablelookup @return a dictionary: 2 values(y[i], #steps) over m trials"
   ]
  },
  {
   "cell_type": "code",
   "execution_count": 6,
   "id": "2a610f88",
   "metadata": {
    "execution": {
     "iopub.execute_input": "2023-03-14T19:23:39.507047Z",
     "iopub.status.busy": "2023-03-14T19:23:39.506248Z",
     "iopub.status.idle": "2023-03-14T19:23:39.512440Z",
     "shell.execute_reply": "2023-03-14T19:23:39.511588Z"
    },
    "papermill": {
     "duration": 0.015839,
     "end_time": "2023-03-14T19:23:39.514886",
     "exception": false,
     "start_time": "2023-03-14T19:23:39.499047",
     "status": "completed"
    },
    "tags": []
   },
   "outputs": [],
   "source": [
    "import random\n",
    "\n",
    "def tablelookup(y, p):\n",
    "    \"\"\"Sample from y[i] with probabilities p[i]\"\"\"\n",
    "    u = random.random()\n",
    "    sumP = 0.0\n",
    "    steps = 0\n",
    "    for i in range(len(p)):\n",
    "        steps += 1\n",
    "        sumP += p[i]\n",
    "        if u < sumP:\n",
    "            return {'value':y[i], 'steps':steps}"
   ]
  },
  {
   "cell_type": "markdown",
   "id": "2ff7ea0b",
   "metadata": {
    "papermill": {
     "duration": 0.005442,
     "end_time": "2023-03-14T19:23:39.526088",
     "exception": false,
     "start_time": "2023-03-14T19:23:39.520646",
     "status": "completed"
    },
    "tags": []
   },
   "source": [
    "b. determine the average number of steps over m trials. Use a suitably large value of m\n",
    "\n",
    "i, ii, iii comment on which order gives the fastest table lookup.\n",
    "\n",
    "i. y = [0,1,2,3,4,5]\n",
    "\n",
    "ii. y = [5,4,3,2,1,0] with p suitably rearranged\n",
    "\n",
    "iii. p arranged in descending probability order with y suitably rearranged"
   ]
  },
  {
   "cell_type": "code",
   "execution_count": 7,
   "id": "5fe9b18c",
   "metadata": {
    "execution": {
     "iopub.execute_input": "2023-03-14T19:23:39.539352Z",
     "iopub.status.busy": "2023-03-14T19:23:39.538919Z",
     "iopub.status.idle": "2023-03-14T19:23:43.796257Z",
     "shell.execute_reply": "2023-03-14T19:23:43.795150Z"
    },
    "papermill": {
     "duration": 4.267243,
     "end_time": "2023-03-14T19:23:43.798907",
     "exception": false,
     "start_time": "2023-03-14T19:23:39.531664",
     "status": "completed"
    },
    "tags": []
   },
   "outputs": [
    {
     "name": "stdout",
     "output_type": "stream",
     "text": [
      "Case (i): Average value: 3.750354\n",
      "Average steps: 4.750354\n",
      "Case (ii): Average value = 3.749373\n",
      "Average steps = 2.250627\n",
      "Case (iii): Average value = 3.934123\n",
      "Average steps = 2.065877\n"
     ]
    }
   ],
   "source": [
    "# Case (i): y = [0,1,2,3,4,5]\n",
    "random.seed(123)\n",
    "y = [0, 1, 2, 3, 4, 5]\n",
    "p = [\n",
    "    1.0/1024, 15.0/1024, 90.0/1024, \n",
    "    270.0/1024, 405.0/1024, 243.0/1024\n",
    "]\n",
    "m = 1000000\n",
    "     \n",
    "valuetotal = 0.0\n",
    "stepstotal = 0\n",
    "for k in range(m):\n",
    "    result = tablelookup(y,p)\n",
    "    valuetotal += result['value']\n",
    "    stepstotal += result['steps']\n",
    "    \n",
    "print(\"Case (i): Average value:\", valuetotal/m)\n",
    "print(\"Average steps:\", stepstotal/m)\n",
    "\n",
    "# Case (ii): y = [5,4,3,2,1,0] with p suitably rearranged\n",
    "random.seed(123)\n",
    "y = [5, 4, 3, 2, 1, 0]\n",
    "p = [\n",
    "    243.0/1024, 405.0/1024, 270.0/1024, \n",
    "    90.0/1024, 15.0/1024, 1.0/1024\n",
    "]\n",
    "m = 1000000\n",
    "valuetotal = 0.0\n",
    "stepstotal = 0\n",
    "for k in range(m):\n",
    "    result = tablelookup(y, p)\n",
    "    valuetotal += result['value']\n",
    "    stepstotal += result['steps']\n",
    "print(\"Case (ii): Average value =\", valuetotal/m)\n",
    "print(\"Average steps =\", stepstotal/m)\n",
    "\n",
    "# Case (iii): p arranged in descending probability order with y suitably rearranged\n",
    "random.seed(123)\n",
    "y = [5,4,3,2,1,0]\n",
    "p = [\n",
    "    405.0/1024, 270.0/1024, 243.0/1024,     \n",
    "    90.0/1024, 15.0/1024, 1.0/1024\n",
    "]\n",
    "m = 1000000\n",
    "valuetotal = 0.0\n",
    "stepstotal = 0\n",
    "for k in range(m):\n",
    "    result = tablelookup(y, p)\n",
    "    valuetotal += result['value']\n",
    "    stepstotal += result['steps']\n",
    "print(\"Case (iii): Average value =\", valuetotal/m)\n",
    "print(\"Average steps =\", stepstotal/m)"
   ]
  },
  {
   "cell_type": "markdown",
   "id": "b8f16b49",
   "metadata": {
    "papermill": {
     "duration": 0.005553,
     "end_time": "2023-03-14T19:23:43.810876",
     "exception": false,
     "start_time": "2023-03-14T19:23:43.805323",
     "status": "completed"
    },
    "tags": []
   },
   "source": [
    "Answer: the last order, p and y arranged in descending probability order, gives the fastest table lookup with only the average steps of 2.066\n",
    "\n",
    "4. Gaussian distribution\n",
    "\n",
    "\n",
    "\n",
    "where:\n",
    "* µ: the mean and \n",
    "* σ: the standard deviation\n",
    "\n",
    "(a) Draw 1000 samples from the Gaussian distribution with µ = 0 and σ = 1."
   ]
  },
  {
   "cell_type": "code",
   "execution_count": 8,
   "id": "333d6697",
   "metadata": {
    "execution": {
     "iopub.execute_input": "2023-03-14T19:23:43.824446Z",
     "iopub.status.busy": "2023-03-14T19:23:43.824065Z",
     "iopub.status.idle": "2023-03-14T19:23:43.829437Z",
     "shell.execute_reply": "2023-03-14T19:23:43.828266Z"
    },
    "papermill": {
     "duration": 0.015273,
     "end_time": "2023-03-14T19:23:43.831951",
     "exception": false,
     "start_time": "2023-03-14T19:23:43.816678",
     "status": "completed"
    },
    "tags": []
   },
   "outputs": [],
   "source": [
    "import numpy as np\n",
    "\n",
    "# set seed from reproducibility\n",
    "np.random.seed(42)\n",
    "\n",
    "# mean=0, standard deviation=1, number of samples=1000\n",
    "samples = np.random.normal(loc=0, scale=1, size=1000)"
   ]
  },
  {
   "cell_type": "markdown",
   "id": "0db0a0a3",
   "metadata": {
    "papermill": {
     "duration": 0.005616,
     "end_time": "2023-03-14T19:23:43.843347",
     "exception": false,
     "start_time": "2023-03-14T19:23:43.837731",
     "status": "completed"
    },
    "tags": []
   },
   "source": [
    "b. compare the mean and standard deviation of the generated samples with the true mean and standard deviation"
   ]
  },
  {
   "cell_type": "code",
   "execution_count": 9,
   "id": "eafe13a9",
   "metadata": {
    "execution": {
     "iopub.execute_input": "2023-03-14T19:23:43.856859Z",
     "iopub.status.busy": "2023-03-14T19:23:43.856200Z",
     "iopub.status.idle": "2023-03-14T19:23:43.865585Z",
     "shell.execute_reply": "2023-03-14T19:23:43.863696Z"
    },
    "papermill": {
     "duration": 0.019325,
     "end_time": "2023-03-14T19:23:43.868317",
     "exception": false,
     "start_time": "2023-03-14T19:23:43.848992",
     "status": "completed"
    },
    "tags": []
   },
   "outputs": [
    {
     "name": "stdout",
     "output_type": "stream",
     "text": [
      "Sample mean:  0.01933205582232549\n",
      "Sample standard deviation:  0.9787262077473543\n",
      "True mean:  0\n",
      "True standard deviation:  1\n"
     ]
    }
   ],
   "source": [
    "sample_mean = np.mean(samples)\n",
    "sample_std = np.std(samples)\n",
    "\n",
    "print(\"Sample mean: \", sample_mean)\n",
    "print(\"Sample standard deviation: \", sample_std)\n",
    "print(\"True mean: \", 0)\n",
    "print(\"True standard deviation: \", 1)"
   ]
  },
  {
   "cell_type": "markdown",
   "id": "3b5af149",
   "metadata": {
    "papermill": {
     "duration": 0.005535,
     "end_time": "2023-03-14T19:23:43.879719",
     "exception": false,
     "start_time": "2023-03-14T19:23:43.874184",
     "status": "completed"
    },
    "tags": []
   },
   "source": [
    "Answer: as we can see from the output, the sample mean is close to the true mean, and the sample stanard deviation is close to the true standard deviation. This is expected since we generated the samples from a Gaussian distribution with the given mean and standard deviation. However, due to the random nature of the sampling process, the sample mean and standardd deviation may not be exactly equal to the true mean and standard deviation.\n",
    "\n",
    "c. plot the histogram of the samples, along with the probability density function"
   ]
  },
  {
   "cell_type": "code",
   "execution_count": 10,
   "id": "44c7fe27",
   "metadata": {
    "execution": {
     "iopub.execute_input": "2023-03-14T19:23:43.893709Z",
     "iopub.status.busy": "2023-03-14T19:23:43.893290Z",
     "iopub.status.idle": "2023-03-14T19:23:44.227792Z",
     "shell.execute_reply": "2023-03-14T19:23:44.226478Z"
    },
    "papermill": {
     "duration": 0.344873,
     "end_time": "2023-03-14T19:23:44.230807",
     "exception": false,
     "start_time": "2023-03-14T19:23:43.885934",
     "status": "completed"
    },
    "tags": []
   },
   "outputs": [
    {
     "data": {
      "image/png": "[encoded data removed]",
      "text/plain": [
       "<Figure size 640x480 with 1 Axes>"
      ]
     },
     "metadata": {},
     "output_type": "display_data"
    }
   ],
   "source": [
    "import numpy as np\n",
    "import matplotlib.pyplot as plt\n",
    "\n",
    "# 1. plot the histogram of the generated samples\n",
    "# density=True: normalize the histogram\n",
    "plt.hist(samples, density=True, bins=20, alpha=0.5)\n",
    "\n",
    "# 2. plot the probability density function\n",
    "# Step 1: create a range of x values to plot the probability density function\n",
    "x = np.linspace(start=-4, stop=4, num=100) #-4;4: same range\n",
    "# Step 2: calculate the probability density function for the given mean and standard deviation\n",
    "pdf = (1/(np.sqrt(2*np.pi)*sample_std)) * np.exp(-(x-sample_mean)**2 / (2*sample_std**2))\n",
    "# Step 3: plot PDF\n",
    "plt.plot(x, pdf, color='r', linewidth=2)\n",
    "plt.xlabel('x')\n",
    "plt.ylabel('Probability density')\n",
    "plt.title('Histogram of 1000 samples from the Gaussian distribution with mean=0, std=1')\n",
    "plt.legend(['Probability density function', 'Histogram'])\n",
    "plt.show()"
   ]
  },
  {
   "cell_type": "markdown",
   "id": "20c58ebf",
   "metadata": {
    "papermill": {
     "duration": 0.006429,
     "end_time": "2023-03-14T19:23:44.244061",
     "exception": false,
     "start_time": "2023-03-14T19:23:44.237632",
     "status": "completed"
    },
    "tags": []
   },
   "source": []
  }
 ],
 "metadata": {
  "kernelspec": {
   "display_name": "Python 3",
   "language": "python",
   "name": "python3"
  },
  "language_info": {
   "codemirror_mode": {
    "name": "ipython",
    "version": 3
   },
   "file_extension": ".py",
   "mimetype": "text/x-python",
   "name": "python",
   "nbconvert_exporter": "python",
   "pygments_lexer": "ipython3",
   "version": "3.7.12"
  },
  "papermill": {
   "default_parameters": {},
   "duration": 22.017029,
   "end_time": "2023-03-14T19:23:44.973620",
   "environment_variables": {},
   "exception": null,
   "input_path": "__notebook__.ipynb",
   "output_path": "__notebook__.ipynb",
   "parameters": {},
   "start_time": "2023-03-14T19:23:22.956591",
   "version": "2.4.0"
  }
 },
 "nbformat": 4,
 "nbformat_minor": 5
}
