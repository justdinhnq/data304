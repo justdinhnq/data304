{
 "cells": [
  {
   "cell_type": "markdown",
   "metadata": {},
   "source": [
    "# DATA304/DATA473/COMP312 - Lab 2"
   ]
  },
  {
   "cell_type": "markdown",
   "metadata": {},
   "source": [
    "**Q1**. Define a function $\\texttt{add(x,y)}$ that returns the sum, $\\texttt{x+y}$."
   ]
  },
  {
   "cell_type": "code",
   "execution_count": null,
   "metadata": {},
   "outputs": [],
   "source": []
  },
  {
   "cell_type": "markdown",
   "metadata": {},
   "source": [
    "**Q2**. Change the definition of $\\texttt{add(x,y)}$ so that if $\\texttt{y}$\n",
    "  is not given when the function is called, the function just returns\n",
    "  $\\texttt{x+1}$. Demonstrate it by adding 2 and 3 (using both arguments)\n",
    "  and adding 1 to 2 (using just one)."
   ]
  },
  {
   "cell_type": "code",
   "execution_count": null,
   "metadata": {},
   "outputs": [],
   "source": []
  },
  {
   "cell_type": "markdown",
   "metadata": {},
   "source": [
    "**Q3**. Define a function $\\texttt{add}$ with two arguments, $\\texttt{x}$\n",
    "  and $\\texttt{y}$ that returns the sum $\\texttt{x+y}$. The arguments have\n",
    "  default values of 3 and 2, respectively. Then call the function with\n",
    "  a keyword argument of 5 for $\\texttt{y}$ without specifying anything for\n",
    "  $\\texttt{x}$ and print the result."
   ]
  },
  {
   "cell_type": "code",
   "execution_count": null,
   "metadata": {},
   "outputs": [],
   "source": []
  },
  {
   "cell_type": "markdown",
   "metadata": {},
   "source": [
    "**Q4**. Change the definition of function $\\texttt{add}$ to include a\n",
    "  documentation string. Demonstrate it by printing `add.__doc__`."
   ]
  },
  {
   "cell_type": "code",
   "execution_count": null,
   "metadata": {},
   "outputs": [],
   "source": []
  },
  {
   "cell_type": "markdown",
   "metadata": {},
   "source": [
    "**Q5**. The $\\textit{linear congruential generator}$ --a pseudorandom number generator."
   ]
  },
  {
   "cell_type": "code",
   "execution_count": null,
   "metadata": {},
   "outputs": [],
   "source": []
  },
  {
   "cell_type": "markdown",
   "metadata": {},
   "source": [
    "**Q6**. Gambling on throwin *at least one 6 after four throws of a single fair six-sided die*."
   ]
  },
  {
   "cell_type": "code",
   "execution_count": null,
   "metadata": {},
   "outputs": [],
   "source": []
  },
  {
   "cell_type": "markdown",
   "metadata": {},
   "source": [
    "**Q7**. Write a function, $\\texttt{words(S)}$, that takes a sentence in a\n",
    "  string, $\\texttt{S}$, and returns a list of words, each as a string.\n",
    "  \n",
    "  Use your function, $\\texttt{words}$, in a second function,\n",
    "  $\\texttt{sortedwords(S)}$, that takes a sentence in a string,\n",
    "  $\\texttt{S}$ and returns a single string holding the\n",
    "  words in sorted order, separated by spaces. Hint: refer to the list\n",
    "  method $\\texttt{sort}$, and the string method, $\\texttt{join}$."
   ]
  },
  {
   "cell_type": "code",
   "execution_count": null,
   "metadata": {},
   "outputs": [],
   "source": []
  },
  {
   "cell_type": "markdown",
   "metadata": {},
   "source": [
    "**Q8.** You are given a string containing a series of numbers separated by\n",
    "  spaces. For example, the string might be assigned as $\\texttt{S =\n",
    "    '23.5 34.6 77.9'}$. Write code to calculate and print the sum of\n",
    "  the numbers. Now write Python code in the form of a function\n",
    "  $\\texttt{string2sum(S)}$. Do not attempt to read the string in, just\n",
    "  assign it. Test your function."
   ]
  },
  {
   "cell_type": "code",
   "execution_count": null,
   "metadata": {},
   "outputs": [],
   "source": []
  },
  {
   "cell_type": "markdown",
   "metadata": {},
   "source": [
    "**Q9**. Study different random sampling functions in module `random` of package `numpy` then plot 50 different circles with random coordinates `(x, y)`, random `areas`, and random `colors`, in which `x` and `y` follow an uniform distribution and normal distribution, respectively, while `areas` and `colors` are drawn from two discrete uniform distributions. Hint: study functions `uniform`, `normal`, and `randint`."
   ]
  },
  {
   "cell_type": "code",
   "execution_count": null,
   "metadata": {},
   "outputs": [],
   "source": []
  }
 ],
 "metadata": {
  "kernelspec": {
   "display_name": "Python 3 (ipykernel)",
   "language": "python",
   "name": "python3"
  },
  "language_info": {
   "codemirror_mode": {
    "name": "ipython",
    "version": 3
   },
   "file_extension": ".py",
   "mimetype": "text/x-python",
   "name": "python",
   "nbconvert_exporter": "python",
   "pygments_lexer": "ipython3",
   "version": "3.8.11"
  }
 },
 "nbformat": 4,
 "nbformat_minor": 2
}
