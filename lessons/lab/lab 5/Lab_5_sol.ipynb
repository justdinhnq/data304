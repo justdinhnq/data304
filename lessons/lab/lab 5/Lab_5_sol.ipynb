{
 "cells": [
  {
   "cell_type": "markdown",
   "metadata": {},
   "source": [
    "# Tutorial 5 (SimPy)"
   ]
  },
  {
   "cell_type": "markdown",
   "metadata": {},
   "source": [
    "## Question 1\n",
    "\n",
    "a. The idea is to monitor the *number of customers in the system* (call this the *state*).\n",
    "At any *event* (customer arrival, begin service, end service), we need to know if this changes the number of customers in the system, and update the state accordingly.\n",
    "1. Use a class variable **n** in the **Arrival** class to keep track of exactly how many customers there are in the system.\n",
    "2. Set up a new monitor called **numbermon** in a similar way to **delaymon**.\n",
    "3. Modify the **run** method (PEM) within the **Arrival** class so that whenever an event occurs (customer arrival, begin service, end service) we update the state (class variable **Arrival.n**) and then the **numbermon** monitor will **observe** the new value of the state.\n",
    "4. Modify the **model** function to return both **W** and **L** in a tuple where\n",
    "$\\verb|L = G.numbermon.timeAverage()|$\n",
    "5. Add a new list **allL** to the simulation experiment in a similar way to **allW**.\n",
    "\n",
    "Test your simulation model with $c=1$, $\\lambda=3$ and $\\mu=5$.\n",
    "- For each performance measure ($W$ and $L$) produce both a point estimate and a 95\\% confidence interval from 50 replications. \n",
    "- *Compare* your results to the expected values of $W$ and $L$ for an M/M/1 queueing system.\n",
    "- *Determine* whether *Little's Law* appears to hold in your simulation results by forming a confidence interval for $\\lambda_{eff}$, i.e., each replication will give one estimate of $\\lambda_{eff}=\\frac{L}{W}$.\n",
    "\n",
    "b. Adding to part (a), we wish monitor the *proportion of time the server is busy*.\n",
    "- Set up a new monitor called **busymon** in a similar way to **delaymon** and **numbermon**.\n",
    "- Modify the **run** method (PEM) within the **Arrival** class so that whenever the state **Arrival.n** is updated, the **busymon** monitor will **observe* a \\fbox{1} if there are any customers in the system and a \\fbox{0} if there are no customers in the system.\n",
    "- Modify the **model** function to return a tuple $(W,L,B)$ where\n",
    "$\\verb|B = G.busymon.timeAverage()|$\n",
    "- Add a new list **allB** to the simulation experiment in a similar way to **allL** and **allW**.\n",
    "- Test your simulation model as in part (a)."
   ]
  },
  {
   "cell_type": "code",
   "execution_count": 1,
   "metadata": {},
   "outputs": [],
   "source": [
    "\"\"\"(q4.py) M/M/c queueing system with several monitors and multiple replications\"\"\"\n",
    "\n",
    "from SimPy.Simulation import *\n",
    "import random\n",
    "import numpy\n",
    "import math"
   ]
  },
  {
   "cell_type": "code",
   "execution_count": 2,
   "metadata": {},
   "outputs": [],
   "source": [
    "def conf(L):\n",
    "    \"\"\"confidence interval\"\"\"\n",
    "    lower = numpy.mean(L) - 1.96*numpy.std(L)/math.sqrt(len(L))\n",
    "    upper = numpy.mean(L) + 1.96*numpy.std(L)/math.sqrt(len(L))\n",
    "    return lower, upper"
   ]
  },
  {
   "cell_type": "code",
   "execution_count": 3,
   "metadata": {},
   "outputs": [],
   "source": [
    "class Source(Process):\n",
    "    \"\"\"generate random arrivals\"\"\"\n",
    "    def run(self, N, lamb, mu):\n",
    "        for i in range(N):\n",
    "            a = Arrival(str(i))\n",
    "            activate(a, a.run(mu))\n",
    "            t = random.expovariate(lamb)\n",
    "            yield hold, self, t"
   ]
  },
  {
   "cell_type": "code",
   "execution_count": 4,
   "metadata": {},
   "outputs": [],
   "source": [
    "class Arrival(Process):\n",
    "    \"\"\"an arrival\"\"\"\n",
    "    n = 0  # class variable (number in system)\n",
    "\n",
    "    def run(self, mu):\n",
    "        # Event: arrival\n",
    "        Arrival.n += 1   # number in system\n",
    "        arrivetime = now()\n",
    "        G.numbermon.observe(Arrival.n)\n",
    "        if (Arrival.n>0):\n",
    "            G.busymon.observe(1)\n",
    "        else:\n",
    "            G.busymon.observe(0)\n",
    "\n",
    "        yield request, self, G.server\n",
    "        # ... waiting in queue for server to be empty (delay) ...\n",
    "      \n",
    "        # Event: service begins\n",
    "        t = random.expovariate(mu)\n",
    "      \n",
    "        yield hold, self, t\n",
    "        # ... now being served (activity) ...\n",
    "      \n",
    "        # Event: service ends\n",
    "        yield release, self, G.server # let go of server (takes no simulation time)\n",
    "        Arrival.n -= 1\n",
    "        G.numbermon.observe(Arrival.n)\n",
    "        if (Arrival.n>0):\n",
    "            G.busymon.observe(1)\n",
    "        else:\n",
    "            G.busymon.observe(0)\n",
    "        delay = now()-arrivetime\n",
    "        G.delaymon.observe(delay)"
   ]
  },
  {
   "cell_type": "code",
   "execution_count": 5,
   "metadata": {},
   "outputs": [],
   "source": [
    "class G:\n",
    "    server = 'dummy'\n",
    "    delaymon = 'Monitor'\n",
    "    numbermon = 'Monitor'\n",
    "    busymon = 'Monitor'"
   ]
  },
  {
   "cell_type": "code",
   "execution_count": 6,
   "metadata": {},
   "outputs": [],
   "source": [
    "def model(c, N, lamb, mu, maxtime, rvseed):\n",
    "    # setup\n",
    "    initialize()\n",
    "    random.seed(rvseed)\n",
    "    G.server = Resource(c)\n",
    "    G.delaymon = Monitor()\n",
    "    G.numbermon = Monitor()\n",
    "    G.busymon = Monitor()\n",
    "    \n",
    "    Arrival.n = 0\n",
    "   \n",
    "    # simulate\n",
    "    s = Source('Source')\n",
    "    activate(s, s.run(N, lamb, mu))\n",
    "    simulate(until=maxtime)\n",
    "\n",
    "    # gather performance measures\n",
    "    W = G.delaymon.mean()\n",
    "    L = G.numbermon.timeAverage()\n",
    "    B = G.busymon.timeAverage()\n",
    "    return W, L, B"
   ]
  },
  {
   "cell_type": "code",
   "execution_count": 7,
   "metadata": {},
   "outputs": [],
   "source": [
    "## Experiment ----------------\n",
    "allW = []\n",
    "allL = []\n",
    "allB = []\n",
    "allLambdaEffective = []\n",
    "for k in range(50):\n",
    "    seed = 123*k\n",
    "    result = model(c=1, N=10000, lamb=3, mu=5, maxtime=2000000, rvseed=seed)\n",
    "    allW.append(result[0])\n",
    "    allL.append(result[1])\n",
    "    allB.append(result[2])\n",
    "    allLambdaEffective.append(result[1]/result[0])"
   ]
  },
  {
   "cell_type": "code",
   "execution_count": 8,
   "metadata": {},
   "outputs": [
    {
     "name": "stdout",
     "output_type": "stream",
     "text": [
      "Estimate of W: 0.5002552383402216\n",
      "Conf int of W: (0.49503594147899854, 0.5054745352014446)\n",
      "Estimate of L: 1.5019964292934942\n",
      "Conf int of L: (1.4841970173280463, 1.519795841258942)\n",
      "Estimate of B: 0.5998344143844396\n",
      "Conf int of B: (0.5977099946713437, 0.6019588340975356)\n",
      "Estimate of LambdaEffective: 3.002010391868243\n",
      "Conf int of LambdaEffective: (2.993370764645074, 3.010650019091412)\n"
     ]
    }
   ],
   "source": [
    "print(\"Estimate of W:\", numpy.mean(allW))\n",
    "print(\"Conf int of W:\", conf(allW))\n",
    "print(\"Estimate of L:\", numpy.mean(allL))\n",
    "print(\"Conf int of L:\", conf(allL))\n",
    "print(\"Estimate of B:\", numpy.mean(allB))\n",
    "print(\"Conf int of B:\", conf(allB))\n",
    "print(\"Estimate of LambdaEffective:\", numpy.mean(allLambdaEffective))\n",
    "print(\"Conf int of LambdaEffective:\", conf(allLambdaEffective))"
   ]
  },
  {
   "cell_type": "markdown",
   "metadata": {},
   "source": [
    "Comments:\n",
    "- For an M/M/1 queueing system with $\\lambda=3$ and $\\mu=5$ we expect $\\rho=\\tfrac{\\lambda}{\\mu}=0.6$, $L=\\frac{\\rho}{1-\\rho}=1.5$ and $W=\\tfrac{L}{\\lambda}=0.5$.  Clearly all three of these values are inside their respective confidence intervals (the expected value of **B** is $\\rho$).\n",
    "- Little's Law appears to hold as $\\lambda=3$ is inside the confidence interval for $\\lambda_{eff}$."
   ]
  },
  {
   "cell_type": "markdown",
   "metadata": {},
   "source": [
    "## Question 2\n",
    "\n",
    "The module **matplotlib** is a Python 2D plotting library which produces publication quality figures.  Run the follow fragment of Python code and explain roughly what each of the commands appear to do."
   ]
  },
  {
   "cell_type": "code",
   "execution_count": 9,
   "metadata": {},
   "outputs": [
    {
     "data": {
      "image/png": "[encoded data removed]",
      "text/plain": [
       "<Figure size 640x480 with 1 Axes>"
      ]
     },
     "metadata": {},
     "output_type": "display_data"
    }
   ],
   "source": [
    "import numpy\n",
    "import matplotlib.pyplot as pl\n",
    "x = numpy.linspace(-4,4,1000)\n",
    "y = (1/numpy.sqrt(2*numpy.pi))*numpy.exp(-0.5*x**2)\n",
    "pl.clf()\n",
    "pl.plot(x,y)\n",
    "pl.title(\"Example: $y=(1/\\sqrt{2\\pi})e^{-x^2/2}$\", fontsize=16)\n",
    "pl.xlabel(\"x\", fontsize=16)\n",
    "pl.ylabel(\"y\", fontsize=16)\n",
    "pl.axis(\"tight\")\n",
    "pl.savefig(\"myfig.png\")"
   ]
  }
 ],
 "metadata": {
  "kernelspec": {
   "display_name": "Python 3 (ipykernel)",
   "language": "python",
   "name": "python3"
  },
  "language_info": {
   "codemirror_mode": {
    "name": "ipython",
    "version": 3
   },
   "file_extension": ".py",
   "mimetype": "text/x-python",
   "name": "python",
   "nbconvert_exporter": "python",
   "pygments_lexer": "ipython3",
   "version": "3.9.13"
  }
 },
 "nbformat": 4,
 "nbformat_minor": 4
}
