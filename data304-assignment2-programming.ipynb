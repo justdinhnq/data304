{
 "cells": [
  {
   "cell_type": "markdown",
   "id": "2f059f85",
   "metadata": {
    "papermill": {
     "duration": 0.003151,
     "end_time": "2023-04-02T23:55:37.234405",
     "exception": false,
     "start_time": "2023-04-02T23:55:37.231254",
     "status": "completed"
    },
    "tags": []
   },
   "source": [
    "Name: Nguyen Quoc Dinh\n",
    "\n",
    "Student ID: 300550781"
   ]
  },
  {
   "cell_type": "code",
   "execution_count": 1,
   "id": "6b572f0d",
   "metadata": {
    "_cell_guid": "b1076dfc-b9ad-4769-8c92-a6c4dae69d19",
    "_uuid": "8f2839f25d086af736a60e9eeb907d3b93b6e0e5",
    "execution": {
     "iopub.execute_input": "2023-04-02T23:55:37.241131Z",
     "iopub.status.busy": "2023-04-02T23:55:37.240748Z",
     "iopub.status.idle": "2023-04-02T23:55:47.353554Z",
     "shell.execute_reply": "2023-04-02T23:55:47.351760Z"
    },
    "papermill": {
     "duration": 10.119476,
     "end_time": "2023-04-02T23:55:47.356390",
     "exception": false,
     "start_time": "2023-04-02T23:55:37.236914",
     "status": "completed"
    },
    "tags": []
   },
   "outputs": [
    {
     "name": "stdout",
     "output_type": "stream",
     "text": [
      "Collecting SimPyClassic\n",
      "  Downloading SimPyClassic-2.3.4-py2.py3-none-any.whl (79 kB)\n",
      "\u001b[2K     \u001b[90m━━━━━━━━━━━━━━━━━━━━━━━━━━━━━━━━━━━━━━━\u001b[0m \u001b[32m79.2/79.2 kB\u001b[0m \u001b[31m733.5 kB/s\u001b[0m eta \u001b[36m0:00:00\u001b[0ma \u001b[36m0:00:01\u001b[0m\n",
      "\u001b[?25hInstalling collected packages: SimPyClassic\n",
      "Successfully installed SimPyClassic-2.3.4\n"
     ]
    }
   ],
   "source": [
    "!pip install SimPyClassic"
   ]
  },
  {
   "cell_type": "code",
   "execution_count": 2,
   "id": "9fa3c0cb",
   "metadata": {
    "execution": {
     "iopub.execute_input": "2023-04-02T23:55:47.363726Z",
     "iopub.status.busy": "2023-04-02T23:55:47.363323Z",
     "iopub.status.idle": "2023-04-02T23:55:48.264000Z",
     "shell.execute_reply": "2023-04-02T23:55:48.262413Z"
    },
    "papermill": {
     "duration": 0.907193,
     "end_time": "2023-04-02T23:55:48.266450",
     "exception": false,
     "start_time": "2023-04-02T23:55:47.359257",
     "status": "completed"
    },
    "tags": []
   },
   "outputs": [],
   "source": [
    "####Assignment 2 - Programming\n",
    "\n",
    "###Import packages\n",
    "import random\n",
    "import math\n",
    "import numpy as np\n",
    "import matplotlib.pyplot as plt\n",
    "\n",
    "from scipy.stats import poisson\n",
    "from SimPy.Simulation import *"
   ]
  },
  {
   "cell_type": "code",
   "execution_count": 3,
   "id": "3d28e594",
   "metadata": {
    "execution": {
     "iopub.execute_input": "2023-04-02T23:55:48.274573Z",
     "iopub.status.busy": "2023-04-02T23:55:48.274191Z",
     "iopub.status.idle": "2023-04-02T23:58:21.607825Z",
     "shell.execute_reply": "2023-04-02T23:58:21.606748Z"
    },
    "papermill": {
     "duration": 153.343878,
     "end_time": "2023-04-02T23:58:21.613184",
     "exception": false,
     "start_time": "2023-04-02T23:55:48.269306",
     "status": "completed"
    },
    "tags": []
   },
   "outputs": [
    {
     "name": "stdout",
     "output_type": "stream",
     "text": [
      "1.b.\n",
      "[k = 1]: E(X) = 1.014537, Var(X) = 1.996800\n",
      "[k = 2]: E(X) = 1.510681, Var(X) = 3.288222\n",
      "[k = 3]: E(X) = 2.002171, Var(X) = 4.656767\n",
      "[k = 4]: E(X) = 2.503752, Var(X) = 6.267850\n",
      "[k = 5]: E(X) = 2.999389, Var(X) = 7.990191\n",
      "[k = 6]: E(X) = 3.493694, Var(X) = 9.826826\n",
      "[k = 7]: E(X) = 3.993442, Var(X) = 11.937406\n",
      "[k = 8]: E(X) = 4.497962, Var(X) = 14.304893\n",
      "[k = 9]: E(X) = 5.003671, Var(X) = 16.777934\n",
      "1.c.\n",
      "[k = 1]: E(X) = 0.999649 [0.995674, 1.001660], Var(X) = 1.988703 [1.972317, 1.998629]\n",
      "[k = 2]: E(X) = 1.500160 [1.041939, 1.493448], Var(X) = 3.240869 [2.113673, 3.225079]\n",
      "[k = 3]: E(X) = 1.998287 [1.532977, 1.990100], Var(X) = 4.643933 [3.348828, 4.624255]\n",
      "[k = 4]: E(X) = 2.496466 [2.027516, 2.487106], Var(X) = 6.208629 [4.747944, 6.184434]\n",
      "[k = 5]: E(X) = 2.995725 [2.523637, 2.985819], Var(X) = 7.957572 [6.314981, 7.926698]\n",
      "[k = 6]: E(X) = 3.497359 [3.022210, 3.487132], Var(X) = 9.894430 [8.073033, 9.860378]\n",
      "[k = 7]: E(X) = 3.998102 [3.523491, 3.987524], Var(X) = 11.986076 [10.019915, 11.946919]\n",
      "[k = 8]: E(X) = 4.498305 [4.023595, 4.487564], Var(X) = 14.248003 [12.115554, 14.205225]\n",
      "[k = 9]: E(X) = 4.998359 [4.523396, 4.987522], Var(X) = 16.665791 [14.383103, 16.618392]\n"
     ]
    }
   ],
   "source": [
    "###Q1. a. a random variate from a (x_k)^2 distribution\n",
    "### (chi-square distribution with k degrees of freedom)\n",
    "### (the sum of the squares of k independent standard normal random variates)\n",
    "\n",
    "def chisquarevariate(k):\n",
    "    \"\"\"\n",
    "    Generate a random variate from a chi-square dist. with k df\n",
    "    \"\"\"\n",
    "    ss = 0.0\n",
    "    for i in range(k):\n",
    "        # step 1 - square\n",
    "        # step 2 - sum up the random variates\n",
    "        ss += (random.gauss(0,1))**2\n",
    "    return ss\n",
    "\n",
    "###Q1. b. For each k ∈ {1, 2, 3, 4, 5, 6, 7, 8, 9}, \n",
    "### simulate 10000 random variates X ~ (x_k)^2 to estimate E(X) and var(X)\n",
    "print(\"1.b.\")\n",
    "X = []\n",
    "n = 10000\n",
    "df = np.arange(9)\n",
    "\n",
    "random.seed(123)\n",
    "\n",
    "for k in df:\n",
    "    for i in range(n):\n",
    "        X.append(chisquarevariate(k+1))\n",
    "    E = np.mean(X)\n",
    "    Var = np.var(X)\n",
    "    \n",
    "    print(\"[k = %d]: E(X) = %f, Var(X) = %f\" % (k+1, E, Var))\n",
    "    \n",
    "###Q1. c. 95% CI for E(X) and a 95% CI for var(X) from 50 replications\n",
    "print(\"1.c.\")\n",
    "X = []\n",
    "reps = 50\n",
    "\n",
    "for k in df:\n",
    "    means = []\n",
    "    variances = []\n",
    "    for r in range(reps):\n",
    "        for i in range(n):\n",
    "            X.append(chisquarevariate(k+1))\n",
    "        E = np.mean(X)\n",
    "        Var = np.var(X)\n",
    "        means.append(E)\n",
    "        variances.append(Var)\n",
    "    mean_CI = [np.quantile(means, 0.025), np.quantile(means, 0.975)]\n",
    "    var_CI = [np.quantile(variances, 0.025), np.quantile(variances, 0.975)]\n",
    "\n",
    "    print(\"[k = %d]: E(X) = %f [%f, %f], Var(X) = %f [%f, %f]\" % (k+1, E, mean_CI[0], mean_CI[1], Var, var_CI[0], var_CI[1]))\n",
    "    \n",
    "    "
   ]
  },
  {
   "cell_type": "markdown",
   "id": "59324a77",
   "metadata": {
    "papermill": {
     "duration": 0.002971,
     "end_time": "2023-04-02T23:58:21.619245",
     "exception": false,
     "start_time": "2023-04-02T23:58:21.616274",
     "status": "completed"
    },
    "tags": []
   },
   "source": [
    "Q1.d. Problem: compare your results from parts (b) and (c) to the exact values of E(X) and var(X) which you can find, e.g., on Wikipedia, and comment on your findings\n",
    "\n",
    "Comparison: the results from parts (b) and (c) with the exact values of E(X) and var(X) from Wikipedia (https://en.wikipedia.org/wiki/Variance and https://en.wikipedia.org/wiki/Expected_value), we can see that the estimates from part (c) are generally closer to the true values than the estmateds from part (b).\n",
    "\n",
    "Comment: \n",
    "\n",
    "- This is expected since the estimates from part (c) are based on larger samples (i.e., 50 replications of 10k observations each), and thus have less sampling error than the estimates from part (c) (i.e., 1 replication of 10k observations)\n",
    "- Overall, both sets of estimates appear to be fairly accurate, with the estimates from part (c) being slightly more precise (i.e., having narrower confidence intervals) than the estimates from part (b). \n",
    "- As k increases, both mean(X) and var(X) also increase, which is consistent with the properties of the chi-squared distribution."
   ]
  },
  {
   "cell_type": "code",
   "execution_count": 4,
   "id": "ae4103ea",
   "metadata": {
    "execution": {
     "iopub.execute_input": "2023-04-02T23:58:21.627665Z",
     "iopub.status.busy": "2023-04-02T23:58:21.626622Z",
     "iopub.status.idle": "2023-04-02T23:58:21.871205Z",
     "shell.execute_reply": "2023-04-02T23:58:21.870123Z"
    },
    "papermill": {
     "duration": 0.251689,
     "end_time": "2023-04-02T23:58:21.873935",
     "exception": false,
     "start_time": "2023-04-02T23:58:21.622246",
     "status": "completed"
    },
    "tags": []
   },
   "outputs": [
    {
     "name": "stdout",
     "output_type": "stream",
     "text": [
      "The probability of 28 customers coming to that shop in a day: 0.0354 (approximately 3.54%)\n"
     ]
    },
    {
     "data": {
      "image/png": "[encoded data removed]",
      "text/plain": [
       "<Figure size 640x480 with 1 Axes>"
      ]
     },
     "metadata": {},
     "output_type": "display_data"
    }
   ],
   "source": [
    "from scipy.stats import poisson\n",
    "\n",
    "###Q2.a. Compute analytically the probability of 28 customers coming to that shop in a day\n",
    "\n",
    "# mean of Poisson dist.\n",
    "mean = 22\n",
    "# number of customers we're interested in\n",
    "k = 28\n",
    "# probability mass function at k = 28\n",
    "# probability of k customers coming to the shop in a day\n",
    "prob = poisson.pmf(k, mean)\n",
    "print(\n",
    "    \"The probability of {} customers coming to that shop in a day: {:,.4f} (approximately {:,.2f}%)\".format(k, prob, prob*100)\n",
    ")\n",
    "\n",
    "###Q2.b. simulation by generating 10k random variates from a Poisson dist. \n",
    "###Plot the frequency of #customers \n",
    "\n",
    "random.seed(123)\n",
    "n = 10000\n",
    "\n",
    "# equivalent to poisson.rvs(mean, size = n): a Poisson discrete random variable\n",
    "simulated_customers = np.random.poisson(mean, n)\n",
    "\n",
    "plt.hist(simulated_customers)\n",
    "plt.xlabel(\"No. of customers\")\n",
    "plt.ylabel(\"Frequency\")\n",
    "plt.title(\"Simulation of customers going to the shop per day with mean = {}\".format(mean))\n",
    "plt.show()"
   ]
  },
  {
   "cell_type": "code",
   "execution_count": 5,
   "id": "a3499912",
   "metadata": {
    "execution": {
     "iopub.execute_input": "2023-04-02T23:58:21.883010Z",
     "iopub.status.busy": "2023-04-02T23:58:21.882623Z",
     "iopub.status.idle": "2023-04-02T23:58:21.895237Z",
     "shell.execute_reply": "2023-04-02T23:58:21.893779Z"
    },
    "papermill": {
     "duration": 0.019489,
     "end_time": "2023-04-02T23:58:21.897268",
     "exception": false,
     "start_time": "2023-04-02T23:58:21.877779",
     "status": "completed"
    },
    "tags": []
   },
   "outputs": [
    {
     "name": "stdout",
     "output_type": "stream",
     "text": [
      "0 Kathy Looking display 0\n",
      "4.5 Kathy is looking display 0\n",
      "10.0 Kathy is looking display 1\n",
      "10.0 Kathy is exiting the museum\n"
     ]
    },
    {
     "data": {
      "text/plain": [
       "'SimPy: No more events at time 10.0'"
      ]
     },
     "execution_count": 5,
     "metadata": {},
     "output_type": "execute_result"
    }
   ],
   "source": [
    "###Q3. a SimPy simulation program to describe the behaviors: \n",
    "###Kathy at an museum, assuming that no other visitors arrive while she's there\n",
    "###3 displays: 0, 1, 2\n",
    "###Kathy enters the museum at time 0 and only has time to see 2 of them\n",
    "###chooses display 1 (p=0.4), display 2 (1-p)\n",
    "\n",
    "class Visitor(Process):\n",
    "    \"\"\"A museum visitor who only wants to see two out of three displays\"\"\"\n",
    "    def visit(self):\n",
    "        count = 0\n",
    "        is_display2 = random.random() > p\n",
    "        \n",
    "        print(now(), self.name, 'Looking display 0')\n",
    "        for display in range(Ndisplays):\n",
    "            if count >= 2:\n",
    "                break\n",
    "            \n",
    "            if is_display2 and display == 1:\n",
    "                continue\n",
    "                \n",
    "            yield hold, self, displayTime[display]\n",
    "            print(\"%s %s is looking display %d\" % (now(), self.name, display))\n",
    "            \n",
    "            count += 1\n",
    "        print(now(), self.name, 'is exiting the museum')\n",
    "\n",
    "## Experiment data --------------\n",
    "Ndisplays = 3\n",
    "#times taken to look at the 3 displays\n",
    "displayTime = [4.5, 5.5, 7.5]\n",
    "p = 0.4\n",
    "\n",
    "## Experiment --------------------\n",
    "random.seed(123)\n",
    "\n",
    "initialize()\n",
    "kathy = Visitor('Kathy')\n",
    "activate(kathy, kathy.visit(), now())\n",
    "simulate(until = 2000)"
   ]
  }
 ],
 "metadata": {
  "kernelspec": {
   "display_name": "Python 3 (ipykernel)",
   "language": "python",
   "name": "python3"
  },
  "language_info": {
   "codemirror_mode": {
    "name": "ipython",
    "version": 3
   },
   "file_extension": ".py",
   "mimetype": "text/x-python",
   "name": "python",
   "nbconvert_exporter": "python",
   "pygments_lexer": "ipython3",
   "version": "3.10.9"
  },
  "papermill": {
   "default_parameters": {},
   "duration": 174.603457,
   "end_time": "2023-04-02T23:58:22.622312",
   "environment_variables": {},
   "exception": null,
   "input_path": "__notebook__.ipynb",
   "output_path": "__notebook__.ipynb",
   "parameters": {},
   "start_time": "2023-04-02T23:55:28.018855",
   "version": "2.4.0"
  }
 },
 "nbformat": 4,
 "nbformat_minor": 5
}
