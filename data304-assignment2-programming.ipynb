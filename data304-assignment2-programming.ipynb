{
 "cells": [
  {
   "cell_type": "markdown",
   "id": "51a9686d",
   "metadata": {
    "papermill": {
     "duration": 0.003796,
     "end_time": "2023-04-05T02:04:44.592557",
     "exception": false,
     "start_time": "2023-04-05T02:04:44.588761",
     "status": "completed"
    },
    "tags": []
   },
   "source": [
    "Name: Nguyen Quoc Dinh\n",
    "\n",
    "Student ID: 300550781"
   ]
  },
  {
   "cell_type": "code",
   "execution_count": 1,
   "id": "37e3497b",
   "metadata": {
    "_cell_guid": "b1076dfc-b9ad-4769-8c92-a6c4dae69d19",
    "_uuid": "8f2839f25d086af736a60e9eeb907d3b93b6e0e5",
    "execution": {
     "iopub.execute_input": "2023-04-05T02:04:44.601595Z",
     "iopub.status.busy": "2023-04-05T02:04:44.600643Z",
     "iopub.status.idle": "2023-04-05T02:04:57.061228Z",
     "shell.execute_reply": "2023-04-05T02:04:57.059719Z"
    },
    "papermill": {
     "duration": 12.46807,
     "end_time": "2023-04-05T02:04:57.064110",
     "exception": false,
     "start_time": "2023-04-05T02:04:44.596040",
     "status": "completed"
    },
    "tags": []
   },
   "outputs": [
    {
     "name": "stdout",
     "output_type": "stream",
     "text": [
      "Collecting SimPyClassic\r\n",
      "  Downloading SimPyClassic-2.3.4-py2.py3-none-any.whl (79 kB)\r\n",
      "\u001b[2K     \u001b[90m━━━━━━━━━━━━━━━━━━━━━━━━━━━━━━━━━━━━━━━━\u001b[0m \u001b[32m79.2/79.2 kB\u001b[0m \u001b[31m2.6 MB/s\u001b[0m eta \u001b[36m0:00:00\u001b[0m\r\n",
      "\u001b[?25hInstalling collected packages: SimPyClassic\r\n",
      "Successfully installed SimPyClassic-2.3.4\r\n",
      "\u001b[33mWARNING: Running pip as the 'root' user can result in broken permissions and conflicting behaviour with the system package manager. It is recommended to use a virtual environment instead: https://pip.pypa.io/warnings/venv\u001b[0m\u001b[33m\r\n",
      "\u001b[0m"
     ]
    }
   ],
   "source": [
    "!pip install SimPyClassic"
   ]
  },
  {
   "cell_type": "code",
   "execution_count": 2,
   "id": "d88d9437",
   "metadata": {
    "execution": {
     "iopub.execute_input": "2023-04-05T02:04:57.072775Z",
     "iopub.status.busy": "2023-04-05T02:04:57.072348Z",
     "iopub.status.idle": "2023-04-05T02:04:57.882412Z",
     "shell.execute_reply": "2023-04-05T02:04:57.881013Z"
    },
    "papermill": {
     "duration": 0.817712,
     "end_time": "2023-04-05T02:04:57.885225",
     "exception": false,
     "start_time": "2023-04-05T02:04:57.067513",
     "status": "completed"
    },
    "tags": []
   },
   "outputs": [],
   "source": [
    "####Assignment 2 - Programming\n",
    "\n",
    "###Import packages\n",
    "import random\n",
    "import math\n",
    "import numpy as np\n",
    "import matplotlib.pyplot as plt\n",
    "\n",
    "from scipy.stats import poisson\n",
    "from SimPy.Simulation import *"
   ]
  },
  {
   "cell_type": "code",
   "execution_count": 3,
   "id": "da287bdf",
   "metadata": {
    "execution": {
     "iopub.execute_input": "2023-04-05T02:04:57.893346Z",
     "iopub.status.busy": "2023-04-05T02:04:57.892881Z",
     "iopub.status.idle": "2023-04-05T02:05:23.431181Z",
     "shell.execute_reply": "2023-04-05T02:05:23.429386Z"
    },
    "papermill": {
     "duration": 25.545766,
     "end_time": "2023-04-05T02:05:23.434160",
     "exception": false,
     "start_time": "2023-04-05T02:04:57.888394",
     "status": "completed"
    },
    "tags": []
   },
   "outputs": [
    {
     "name": "stdout",
     "output_type": "stream",
     "text": [
      "1.b.\n",
      "[k = 1]: E(X) = 1.014537, Var(X) = 1.996800\n",
      "[k = 2]: E(X) = 2.006826, Var(X) = 4.087325\n",
      "[k = 3]: E(X) = 2.985150, Var(X) = 5.944488\n",
      "[k = 4]: E(X) = 4.008494, Var(X) = 8.082096\n",
      "[k = 5]: E(X) = 4.981939, Var(X) = 9.966426\n",
      "[k = 6]: E(X) = 5.965217, Var(X) = 11.679886\n",
      "[k = 7]: E(X) = 6.991929, Var(X) = 14.111479\n",
      "[k = 8]: E(X) = 8.029607, Var(X) = 16.622996\n",
      "[k = 9]: E(X) = 9.049343, Var(X) = 18.148871\n",
      "1.c.\n",
      "[k = 1]: E(X) = 0.999649 [0.976865, 1.022223], Var(X) = 1.988554 [1.879281, 2.092382]\n",
      "[k = 2]: E(X) = 2.000672 [1.965989, 2.031936], Var(X) = 3.991602 [3.781860, 4.193768]\n",
      "[k = 3]: E(X) = 2.994541 [2.955353, 3.048107], Var(X) = 5.960601 [5.716227, 6.255772]\n",
      "[k = 4]: E(X) = 3.991002 [3.937185, 4.041369], Var(X) = 7.923778 [7.682751, 8.240467]\n",
      "[k = 5]: E(X) = 4.992759 [4.916209, 5.067432], Var(X) = 9.966704 [9.557568, 10.292987]\n",
      "[k = 6]: E(X) = 6.005530 [5.922930, 6.073010], Var(X) = 12.028482 [11.603619, 12.395794]\n",
      "[k = 7]: E(X) = 7.002561 [6.932575, 7.070813], Var(X) = 14.003265 [13.537786, 14.587767]\n",
      "[k = 8]: E(X) = 7.999723 [7.931272, 8.078581], Var(X) = 16.068253 [15.475514, 16.551352]\n",
      "[k = 9]: E(X) = 8.998792 [8.946075, 9.060244], Var(X) = 18.002876 [17.546531, 18.664950]\n"
     ]
    }
   ],
   "source": [
    "###Q1. a. a random variate from a (x_k)^2 distribution\n",
    "### (chi-square distribution with k degrees of freedom)\n",
    "### (the sum of the squares of k independent standard normal random variates)\n",
    "\n",
    "def chisquarevariate(k):\n",
    "    \"\"\"\n",
    "    Generate a random variate from a chi-square dist. with k df\n",
    "    \"\"\"\n",
    "    ss = 0.0\n",
    "    for i in range(k):\n",
    "        # step 1 - square\n",
    "        # step 2 - sum up the random variates\n",
    "        ss += (random.gauss(0,1))**2\n",
    "    return ss\n",
    "\n",
    "###Q1. b. For each k ∈ {1, 2, 3, 4, 5, 6, 7, 8, 9}, \n",
    "### simulate 10000 random variates X ~ (x_k)^2 to estimate E(X) and var(X)\n",
    "print(\"1.b.\")\n",
    "n = 10000\n",
    "df = np.arange(9)\n",
    "\n",
    "random.seed(123)\n",
    "\n",
    "for k in df:\n",
    "    X = []\n",
    "    for i in range(n):\n",
    "        X.append(chisquarevariate(k+1))\n",
    "    E = np.mean(X) # <=> sum(X)/n\n",
    "    Var = np.var(X) #<=> sum((x-E)**2 for x in X) / (n-1)\n",
    "    \n",
    "    print(\"[k = %d]: E(X) = %f, Var(X) = %f\" % (k+1, E, Var))\n",
    "    \n",
    "###Q1. c. 95% CI for E(X) and a 95% CI for var(X) from 50 replications\n",
    "print(\"1.c.\")\n",
    "reps = 50\n",
    "\n",
    "for k in df:\n",
    "    means = []\n",
    "    variances = []\n",
    "    for r in range(reps):\n",
    "        X = []\n",
    "        for i in range(n):\n",
    "            X.append(chisquarevariate(k+1))\n",
    "        E = np.mean(X)\n",
    "        Var = np.var(X)\n",
    "        means.append(E)\n",
    "        variances.append(Var)\n",
    "    mean_CI = [np.quantile(means, 0.025), np.quantile(means, 0.975)]\n",
    "    var_CI = [np.quantile(variances, 0.025), np.quantile(variances, 0.975)]\n",
    "    \n",
    "    mean = np.mean(means)\n",
    "    variance = np.mean(variances)\n",
    "\n",
    "    #print(\"[k = %d]: E(X) = %f [%f, %f], Var(X) = %f [%f, %f]\" % (k+1, E, mean_CI[0], mean_CI[1], Var, var_CI[0], var_CI[1]))\n",
    "    print(\n",
    "        \"[k = %d]: E(X) = %f [%f, %f], Var(X) = %f [%f, %f]\" % (k+1, mean, mean_CI[0], mean_CI[1], variance, var_CI[0], var_CI[1])\n",
    "    )\n",
    "    "
   ]
  },
  {
   "cell_type": "markdown",
   "id": "adc9c0d0",
   "metadata": {
    "papermill": {
     "duration": 0.003635,
     "end_time": "2023-04-05T02:05:23.441873",
     "exception": false,
     "start_time": "2023-04-05T02:05:23.438238",
     "status": "completed"
    },
    "tags": []
   },
   "source": [
    "Q1.d. Problem: compare your results from parts (b) and (c) to the exact values of E(X) and var(X) which you can find, e.g., on Wikipedia, and comment on your findings\n",
    "\n",
    "Comparison: the results from parts (b) and (c) with the exact values of E(X) and var(X) from Wikipedia (https://en.wikipedia.org/wiki/Variance and https://en.wikipedia.org/wiki/Expected_value), we can see that the estimates from part (c) are generally closer to the true values than the estmateds from part (b).\n",
    "\n",
    "Comment: \n",
    "\n",
    "- This is expected since the estimates from part (c) are based on larger samples (i.e., 50 replications of 10k observations each), and thus have less sampling error than the estimates from part (c) (i.e., 1 replication of 10k observations)\n",
    "- Overall, both sets of estimates appear to be fairly accurate, with the estimates from part (c) being slightly more precise (i.e., having narrower confidence intervals) than the estimates from part (b). \n",
    "- As k increases, both mean(X) and var(X) also increase, which is consistent with the properties of the chi-squared distribution."
   ]
  },
  {
   "cell_type": "code",
   "execution_count": 4,
   "id": "3638caa0",
   "metadata": {
    "execution": {
     "iopub.execute_input": "2023-04-05T02:05:23.451777Z",
     "iopub.status.busy": "2023-04-05T02:05:23.450743Z",
     "iopub.status.idle": "2023-04-05T02:05:23.722736Z",
     "shell.execute_reply": "2023-04-05T02:05:23.721775Z"
    },
    "papermill": {
     "duration": 0.279964,
     "end_time": "2023-04-05T02:05:23.725497",
     "exception": false,
     "start_time": "2023-04-05T02:05:23.445533",
     "status": "completed"
    },
    "tags": []
   },
   "outputs": [
    {
     "name": "stdout",
     "output_type": "stream",
     "text": [
      "The probability of 28 customers coming to that shop in a day: 0.0354 (approximately 3.54%)\n"
     ]
    },
    {
     "data": {
      "image/png": "[encoded data removed]",
      "text/plain": [
       "<Figure size 640x480 with 1 Axes>"
      ]
     },
     "metadata": {},
     "output_type": "display_data"
    }
   ],
   "source": [
    "from scipy.stats import poisson\n",
    "\n",
    "###Q2.a. Compute analytically the probability of 28 customers coming to that shop in a day\n",
    "\n",
    "# mean of Poisson dist.\n",
    "mean = 22\n",
    "# number of customers we're interested in\n",
    "k = 28\n",
    "# probability mass function at k = 28\n",
    "# probability of k customers coming to the shop in a day\n",
    "prob = poisson.pmf(k, mean)\n",
    "print(\n",
    "    \"The probability of {} customers coming to that shop in a day: {:,.4f} (approximately {:,.2f}%)\".format(k, prob, prob*100)\n",
    ")\n",
    "\n",
    "###Q2.b. simulation by generating 10k random variates from a Poisson dist. \n",
    "###Plot the frequency of #customers \n",
    "\n",
    "random.seed(123)\n",
    "n = 10000\n",
    "\n",
    "# equivalent to poisson.rvs(mean, size = n): a Poisson discrete random variable\n",
    "simulated_customers = np.random.poisson(mean, n)\n",
    "\n",
    "plt.hist(simulated_customers)\n",
    "plt.xlabel(\"No. of customers\")\n",
    "plt.ylabel(\"Frequency\")\n",
    "plt.title(\"Simulation of customers going to the shop per day with mean = {}\".format(mean))\n",
    "plt.show()"
   ]
  },
  {
   "cell_type": "code",
   "execution_count": 5,
   "id": "41d2a657",
   "metadata": {
    "execution": {
     "iopub.execute_input": "2023-04-05T02:05:23.736598Z",
     "iopub.status.busy": "2023-04-05T02:05:23.736187Z",
     "iopub.status.idle": "2023-04-05T02:05:23.752632Z",
     "shell.execute_reply": "2023-04-05T02:05:23.751144Z"
    },
    "papermill": {
     "duration": 0.025156,
     "end_time": "2023-04-05T02:05:23.755488",
     "exception": false,
     "start_time": "2023-04-05T02:05:23.730332",
     "status": "completed"
    },
    "tags": []
   },
   "outputs": [
    {
     "name": "stdout",
     "output_type": "stream",
     "text": [
      "0 Kathy Looking display 0\n",
      "4.5 Kathy is looking display 0\n",
      "10.0 Kathy is looking display 1\n",
      "10.0 Kathy is exiting the museum\n"
     ]
    },
    {
     "data": {
      "text/plain": [
       "'SimPy: No more events at time 10.0'"
      ]
     },
     "execution_count": 5,
     "metadata": {},
     "output_type": "execute_result"
    }
   ],
   "source": [
    "###Q3. a SimPy simulation program to describe the behaviors: \n",
    "###Kathy at an museum, assuming that no other visitors arrive while she's there\n",
    "###3 displays: 0, 1, 2\n",
    "###Kathy enters the museum at time 0 and only has time to see 2 of them\n",
    "###chooses display 1 (p=0.4), display 2 (1-p)\n",
    "\n",
    "class Visitor(Process):\n",
    "    \"\"\"A museum visitor who only wants to see two out of three displays\"\"\"\n",
    "    def visit(self):\n",
    "        count = 0\n",
    "        is_display2 = random.random() > p\n",
    "        \n",
    "        print(now(), self.name, 'Looking display 0')\n",
    "        for display in range(Ndisplays):\n",
    "            if count >= 2:\n",
    "                break\n",
    "            \n",
    "            if is_display2 and display == 1:\n",
    "                continue\n",
    "                \n",
    "            yield hold, self, displayTime[display]\n",
    "            print(\"%s %s is looking display %d\" % (now(), self.name, display))\n",
    "            \n",
    "            count += 1\n",
    "        print(now(), self.name, 'is exiting the museum')\n",
    "\n",
    "## Experiment data --------------\n",
    "Ndisplays = 3\n",
    "#times taken to look at the 3 displays\n",
    "displayTime = [4.5, 5.5, 7.5]\n",
    "p = 0.4\n",
    "\n",
    "## Experiment --------------------\n",
    "random.seed(123)\n",
    "\n",
    "initialize()\n",
    "kathy = Visitor('Kathy')\n",
    "activate(kathy, kathy.visit(), now())\n",
    "simulate(until = 2000)"
   ]
  }
 ],
 "metadata": {
  "kernelspec": {
   "display_name": "Python 3",
   "language": "python",
   "name": "python3"
  },
  "language_info": {
   "codemirror_mode": {
    "name": "ipython",
    "version": 3
   },
   "file_extension": ".py",
   "mimetype": "text/x-python",
   "name": "python",
   "nbconvert_exporter": "python",
   "pygments_lexer": "ipython3",
   "version": "3.7.12"
  },
  "papermill": {
   "default_parameters": {},
   "duration": 51.011346,
   "end_time": "2023-04-05T02:05:24.584396",
   "environment_variables": {},
   "exception": null,
   "input_path": "__notebook__.ipynb",
   "output_path": "__notebook__.ipynb",
   "parameters": {},
   "start_time": "2023-04-05T02:04:33.573050",
   "version": "2.4.0"
  }
 },
 "nbformat": 4,
 "nbformat_minor": 5
}
